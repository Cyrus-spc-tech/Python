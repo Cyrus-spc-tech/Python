{
  "nbformat": 4,
  "nbformat_minor": 0,
  "metadata": {
    "colab": {
      "provenance": [],
      "authorship_tag": "ABX9TyN7WW2PSwpC7cM5dFIyO92g",
      "include_colab_link": true
    },
    "kernelspec": {
      "name": "python3",
      "display_name": "Python 3"
    },
    "language_info": {
      "name": "python"
    }
  },
  "cells": [
    {
      "cell_type": "markdown",
      "metadata": {
        "id": "view-in-github",
        "colab_type": "text"
      },
      "source": [
        "<a href=\"https://colab.research.google.com/github/Cyrus-spc-tech/Python/blob/main/Numpyfull.ipynb\" target=\"_parent\"><img src=\"https://colab.research.google.com/assets/colab-badge.svg\" alt=\"Open In Colab\"/></a>"
      ]
    },
    {
      "cell_type": "code",
      "execution_count": null,
      "metadata": {
        "colab": {
          "base_uri": "https://localhost:8080/"
        },
        "id": "ZtnaKYT6s0Di",
        "outputId": "b35bbbd9-c0be-4ec1-dd8f-4650408492f2"
      },
      "outputs": [
        {
          "output_type": "stream",
          "name": "stdout",
          "text": [
            "[[1 2 3]\n",
            " [1 2 3]]\n",
            "2\n",
            "(2, 3)\n",
            "int64\n",
            "8\n",
            "6\n",
            "<class 'numpy.ndarray'>\n"
          ]
        }
      ],
      "source": [
        "import numpy as np\n",
        "#2d array\n",
        "a=np.array([[1,2,3],[1,2,3]])\n",
        "print(a)\n",
        "#dimension\n",
        "print(a.ndim)\n",
        "#shape\n",
        "print(a.shape)\n",
        "#data type\n",
        "print(a.dtype)\n",
        "# no of bytes occupied\n",
        "print(a.itemsize)#or nbytes\n",
        "#size\n",
        "print(a.size)\n",
        "#type\n",
        "print(type(a))\n"
      ]
    },
    {
      "cell_type": "code",
      "source": [
        "import numpy as np\n",
        "a=np.array([[1,2,3,4,5,6,7,7,8,8],[1,2,3,3,5,6,7,3,8,8]])\n",
        "print(a)\n",
        "print()\n",
        "print(a[1,9])\n",
        "print()\n",
        "#1 row\n",
        "print(a[0,:])\n",
        "print()\n",
        "#1 column\n",
        "print(a[:,0])\n",
        "print()\n",
        "# acessing like [starting:ending:stepsize]\n",
        "print(a[0,1:10:2])\n",
        "print()\n",
        "#chanding value\n",
        "a[0,0]=10\n",
        "a[1,1]=10\n",
        "a[1,9]=10\n",
        "print(a)\n"
      ],
      "metadata": {
        "colab": {
          "base_uri": "https://localhost:8080/"
        },
        "id": "kg7J3wwbw7Ob",
        "outputId": "43d38469-3f1a-44bf-9df0-861ee02bb995"
      },
      "execution_count": null,
      "outputs": [
        {
          "output_type": "stream",
          "name": "stdout",
          "text": [
            "[[1 2 3 4 5 6 7 7 8 8]\n",
            " [1 2 3 3 5 6 7 3 8 8]]\n",
            "\n",
            "8\n",
            "\n",
            "[1 2 3 4 5 6 7 7 8 8]\n",
            "\n",
            "[1 1]\n",
            "\n",
            "[2 4 6 7 8]\n",
            "\n",
            "[[10  2  3  4  5  6  7  7  8  8]\n",
            " [ 1 10  3  3  5  6  7  3  8 10]]\n"
          ]
        }
      ]
    },
    {
      "cell_type": "code",
      "source": [
        "#3x3 matrix\n",
        "o=np.zeros([3,3])\n",
        "on=np.ones([3,3])\n",
        "any=np.full([3,3],55)\n",
        "print(o)\n",
        "print()\n",
        "print(on)\n",
        "print()\n",
        "print(any)"
      ],
      "metadata": {
        "colab": {
          "base_uri": "https://localhost:8080/"
        },
        "id": "UmJGltcVw7K_",
        "outputId": "3c710d50-b6a2-4f8b-dea0-722c7a3adaf6"
      },
      "execution_count": null,
      "outputs": [
        {
          "output_type": "stream",
          "name": "stdout",
          "text": [
            "[[0. 0. 0.]\n",
            " [0. 0. 0.]\n",
            " [0. 0. 0.]]\n",
            "\n",
            "[[1. 1. 1.]\n",
            " [1. 1. 1.]\n",
            " [1. 1. 1.]]\n",
            "\n",
            "[[55 55 55]\n",
            " [55 55 55]\n",
            " [55 55 55]]\n"
          ]
        }
      ]
    },
    {
      "cell_type": "code",
      "source": [
        "#random number\n",
        "import numpy as np\n",
        "ran=np.random.random(100)\n",
        "number_of_guesses = 0\n",
        "\n",
        "print(f\"Welcome! Let's play a number guessing game.\")\n",
        "while True:\n",
        "\n",
        "    user_guess = int(input(\"Guess a number between 1 and 100: \"))\n",
        "    if user_guess == ran:\n",
        "        print(f\" Congratulations, You guessed the number in {number_of_guesses} attempts.\")\n",
        "        break\n",
        "    elif user_guess < ran:\n",
        "        print(\"Your guess is too low. Try again!\")\n",
        "    else:\n",
        "        print(\"Your guess is too high. Try again!\")\n",
        "    number_of_guesses += 1"
      ],
      "metadata": {
        "id": "TnF8I3E0w7H5"
      },
      "execution_count": null,
      "outputs": []
    },
    {
      "cell_type": "code",
      "source": [
        "# random values matrix\n",
        "import numpy as np\n",
        "a=np.random.random([3,3])\n",
        "print(a)"
      ],
      "metadata": {
        "colab": {
          "base_uri": "https://localhost:8080/"
        },
        "id": "benT2A7vw7F0",
        "outputId": "5a608eac-8eca-484f-a7ea-4ab1a6689c53"
      },
      "execution_count": null,
      "outputs": [
        {
          "output_type": "stream",
          "name": "stdout",
          "text": [
            "[[0.9062759  0.1389588  0.0467841 ]\n",
            " [0.38751691 0.85194568 0.727868  ]\n",
            " [0.76902393 0.15677498 0.44173396]]\n"
          ]
        }
      ]
    },
    {
      "cell_type": "code",
      "source": [
        "# random integer values matrix\n",
        "import numpy as np\n",
        "a=np.random.randint(1,100,[3,3])\n",
        "print(a)"
      ],
      "metadata": {
        "colab": {
          "base_uri": "https://localhost:8080/"
        },
        "id": "lSFYJAhdw7EH",
        "outputId": "5f35bc29-abb2-4256-f9a8-f2b79e2498be"
      },
      "execution_count": null,
      "outputs": [
        {
          "output_type": "stream",
          "name": "stdout",
          "text": [
            "[[60 52 93]\n",
            " [28 96 97]\n",
            " [96 87 57]]\n"
          ]
        }
      ]
    },
    {
      "cell_type": "code",
      "source": [
        "# making a identity matrix\n",
        "import numpy as np\n",
        "a=np.eye(3)\n",
        "b=np.identity(3)\n",
        "print(a)\n",
        "print()\n",
        "print(b)"
      ],
      "metadata": {
        "colab": {
          "base_uri": "https://localhost:8080/"
        },
        "id": "8aCpw2Tnw7An",
        "outputId": "08e7a408-bc17-474b-89c2-2e2085326ad0"
      },
      "execution_count": null,
      "outputs": [
        {
          "output_type": "stream",
          "name": "stdout",
          "text": [
            "[[1. 0. 0.]\n",
            " [0. 1. 0.]\n",
            " [0. 0. 1.]]\n",
            "\n",
            "[[1. 0. 0.]\n",
            " [0. 1. 0.]\n",
            " [0. 0. 1.]]\n"
          ]
        }
      ]
    },
    {
      "cell_type": "code",
      "source": [
        "#making matrix not using actual matrix\n",
        "r=np.ones([5,5])\n",
        "z=np.zeros([3,3])\n",
        "z[1,1]=9\n",
        "\n",
        "r[1:4,1:4]=z\n",
        "print(r)"
      ],
      "metadata": {
        "colab": {
          "base_uri": "https://localhost:8080/"
        },
        "id": "rPmU-iVl3xT8",
        "outputId": "d87b9170-e789-4301-9e1f-5082d678ea23"
      },
      "execution_count": null,
      "outputs": [
        {
          "output_type": "stream",
          "name": "stdout",
          "text": [
            "[[1. 1. 1. 1. 1.]\n",
            " [1. 0. 0. 0. 1.]\n",
            " [1. 0. 9. 0. 1.]\n",
            " [1. 0. 0. 0. 1.]\n",
            " [1. 1. 1. 1. 1.]]\n"
          ]
        }
      ]
    },
    {
      "cell_type": "code",
      "source": [
        "#copying the array\n",
        "a=np.array([[1,2,3],[4,5,6]])\n",
        "x=np.array([4,5,6,7])\n",
        "y=x\n",
        "print(x)\n",
        "y[0]=100\n",
        "print(y)\n",
        "print(x)\n",
        "#x also chnges\n",
        "\n",
        "\n",
        "print()\n",
        "#.copy creates a virtual copy\n",
        "b=a.copy()\n",
        "b[0,0]=100\n",
        "print(a)\n",
        "print()\n",
        "print(b)"
      ],
      "metadata": {
        "colab": {
          "base_uri": "https://localhost:8080/"
        },
        "id": "IKHS23Fj3xQg",
        "outputId": "e99f3d8e-b1fe-4f16-b1df-dfaaf02b7abd"
      },
      "execution_count": null,
      "outputs": [
        {
          "output_type": "stream",
          "name": "stdout",
          "text": [
            "[4 5 6 7]\n",
            "[100   5   6   7]\n",
            "[100   5   6   7]\n",
            "\n",
            "[[1 2 3]\n",
            " [4 5 6]]\n",
            "\n",
            "[[100   2   3]\n",
            " [  4   5   6]]\n"
          ]
        }
      ]
    },
    {
      "cell_type": "code",
      "source": [
        "#using maths\n",
        "a=np.array([1,2,3,4])\n",
        "b=np.array([5,6,7,8])\n",
        "print(a)\n",
        "print()\n",
        "\n",
        "#simple maths\n",
        "print(a+2)\n",
        "print(a-2)\n",
        "print(a*2)\n",
        "print(a/2)\n",
        "print(a**2)\n",
        "print(a%2)\n",
        "print(a//2)\n",
        "print()\n",
        "#array maths\n",
        "print(a+b)\n",
        "print(a-b)\n",
        "print(a*b)\n",
        "print(a/b)\n",
        "print(a**b)\n",
        "print(a%b)\n",
        "print(a//b)\n",
        "print()\n",
        "#trigno matrix\n",
        "print(np.sin(a))\n",
        "print(np.cos(a))\n",
        "print(np.tan(a))\n",
        "print(np.log(a))\n",
        "print(np.exp(a))\n",
        "\n",
        "#  https://numpy.org/doc/stable/reference/routines.math.html"
      ],
      "metadata": {
        "colab": {
          "base_uri": "https://localhost:8080/"
        },
        "id": "8mCD8eFh3xN3",
        "outputId": "9a46c2fe-0110-4af7-e780-dc339ad0b2d6"
      },
      "execution_count": null,
      "outputs": [
        {
          "output_type": "stream",
          "name": "stdout",
          "text": [
            "[1 2 3 4]\n",
            "\n",
            "[3 4 5 6]\n",
            "[-1  0  1  2]\n",
            "[2 4 6 8]\n",
            "[0.5 1.  1.5 2. ]\n",
            "[ 1  4  9 16]\n",
            "[1 0 1 0]\n",
            "[0 1 1 2]\n",
            "\n",
            "[ 6  8 10 12]\n",
            "[-4 -4 -4 -4]\n",
            "[ 5 12 21 32]\n",
            "[0.2        0.33333333 0.42857143 0.5       ]\n",
            "[    1    64  2187 65536]\n",
            "[1 2 3 4]\n",
            "[0 0 0 0]\n",
            "\n",
            "[ 0.84147098  0.90929743  0.14112001 -0.7568025 ]\n",
            "[ 0.54030231 -0.41614684 -0.9899925  -0.65364362]\n",
            "[ 1.55740772 -2.18503986 -0.14254654  1.15782128]\n",
            "[0.         0.69314718 1.09861229 1.38629436]\n",
            "[ 2.71828183  7.3890561  20.08553692 54.59815003]\n"
          ]
        }
      ]
    },
    {
      "cell_type": "code",
      "source": [
        "#matrix multiply\n",
        "a=np.array([[1,2,3],[4,5,6]])\n",
        "b=np.array([[1,2],[3,4],[5,6]])\n",
        "c=np.array([[1,2,3],[1,2,1],[1,1,3]])\n",
        "\n",
        "\n",
        "mul=a.dot(b)\n",
        "mul1=np.matmul(a,b)\n",
        "\n",
        "\n",
        "print(mul1)\n",
        "print()\n",
        "print(mul)\n",
        "print()\n",
        "#to find determinant of a sq matrix\n",
        "print(np.linalg.det(c))\n",
        "print(np.linalg.inv(c))\n",
        "print(np.linalg.eig(c))\n",
        "#https://numpy.org/doc/stable/reference/routines.linalg.html\n"
      ],
      "metadata": {
        "colab": {
          "base_uri": "https://localhost:8080/"
        },
        "id": "GCef8q9o3xLU",
        "outputId": "6670aac8-ce72-4f4e-8867-588f7183d0cc"
      },
      "execution_count": null,
      "outputs": [
        {
          "output_type": "stream",
          "name": "stdout",
          "text": [
            "[[22 28]\n",
            " [49 64]]\n",
            "\n",
            "[[22 28]\n",
            " [49 64]]\n",
            "\n",
            "-2.0\n",
            "[[-2.5  1.5  2. ]\n",
            " [ 1.  -0.  -1. ]\n",
            " [ 0.5 -0.5 -0. ]]\n",
            "EigResult(eigenvalues=array([ 4.89510652, -0.29240159,  1.39729507]), eigenvectors=array([[ 0.67882428,  0.92785901, -0.04710549],\n",
            "       [ 0.43803703, -0.32486038, -0.83399463],\n",
            "       [ 0.5893396 , -0.18314857,  0.54975816]]))\n"
          ]
        }
      ]
    },
    {
      "cell_type": "code",
      "source": [
        "# doing statics operation\n",
        "a=np.array([[1,2,3],[4,5,6]])\n",
        "print(a)\n",
        "print()\n",
        "print(np.sum(a))\n",
        "print()\n",
        "print(np.min(a))\n",
        "print()\n",
        "print(np.max(a))\n",
        "print()\n",
        "print(np.mean(a))\n",
        "print()\n",
        "print(np.median(a,axis=1))\n",
        "print()\n",
        "print(np.std(a))\n",
        "print()\n",
        "print(np.var(a))\n",
        "print()\n",
        "print(a.T)\n",
        "print()\n",
        "print(a.flatten())\n",
        "print()\n",
        "print(a.ravel())"
      ],
      "metadata": {
        "colab": {
          "base_uri": "https://localhost:8080/"
        },
        "id": "ho-kkyvj3xI4",
        "outputId": "eac814d5-2eca-4ef5-d807-f0194f4ac0a1"
      },
      "execution_count": null,
      "outputs": [
        {
          "output_type": "stream",
          "name": "stdout",
          "text": [
            "[[1 2 3]\n",
            " [4 5 6]]\n",
            "\n",
            "21\n",
            "\n",
            "1\n",
            "\n",
            "6\n",
            "\n",
            "3.5\n",
            "\n",
            "[2. 5.]\n",
            "\n",
            "1.707825127659933\n",
            "\n",
            "2.9166666666666665\n",
            "\n",
            "[[1 4]\n",
            " [2 5]\n",
            " [3 6]]\n",
            "\n",
            "[1 2 3 4 5 6]\n",
            "\n",
            "[1 2 3 4 5 6]\n"
          ]
        }
      ]
    },
    {
      "cell_type": "code",
      "source": [
        "#reshaping the matrix\n",
        "a=np.array([[1,2,3],[4,5,6]])\n",
        "\n",
        "print(a)\n",
        "print()\n",
        "print(a.reshape(3,2))"
      ],
      "metadata": {
        "colab": {
          "base_uri": "https://localhost:8080/"
        },
        "id": "pRmF9tAX3xGS",
        "outputId": "61faf42f-ccb4-404d-9a8d-3ce1fbdebcde"
      },
      "execution_count": null,
      "outputs": [
        {
          "output_type": "stream",
          "name": "stdout",
          "text": [
            "[[1 2 3]\n",
            " [4 5 6]]\n",
            "\n",
            "[[1 2]\n",
            " [3 4]\n",
            " [5 6]]\n"
          ]
        }
      ]
    },
    {
      "cell_type": "code",
      "source": [
        "import numpy as np\n",
        "a=np.array([[1,2,3],\n",
        "            [4,'hello',6],\n",
        "            [7,8,9]])\n",
        "print(a)\n",
        "print()\n",
        "print(a[1][1])\n",
        "print()\n",
        "print(a.dtype)\n"
      ],
      "metadata": {
        "id": "bnouGQ4_3xDO",
        "colab": {
          "base_uri": "https://localhost:8080/"
        },
        "outputId": "572e487f-59c7-4979-b018-0ed6e9c91cbc"
      },
      "execution_count": null,
      "outputs": [
        {
          "output_type": "stream",
          "name": "stdout",
          "text": [
            "[['1' '2' '3']\n",
            " ['4' 'hello' '6']\n",
            " ['7' '8' '9']]\n",
            "\n",
            "hello\n",
            "\n",
            "<U21\n"
          ]
        }
      ]
    },
    {
      "cell_type": "code",
      "source": [
        "import numpy as np\n",
        "a=np.full((10,10),4)\n",
        "b=np.full((2,2,1),2)\n",
        "c=np.zeros((3,3))\n",
        "d=np.ones((3,3))\n",
        "e=np.empty((2,3))\n",
        "print(b)\n",
        "print()\n",
        "print(a)\n",
        "print()\n",
        "print(c)\n",
        "print()\n",
        "print(d)\n",
        "print()\n",
        "print(e)"
      ],
      "metadata": {
        "id": "9rKKhrVI3vYr",
        "colab": {
          "base_uri": "https://localhost:8080/"
        },
        "outputId": "0125fab4-39f7-4280-d03a-b8f8c47eaee6"
      },
      "execution_count": null,
      "outputs": [
        {
          "output_type": "stream",
          "name": "stdout",
          "text": [
            "[[[2]\n",
            "  [2]]\n",
            "\n",
            " [[2]\n",
            "  [2]]]\n",
            "\n",
            "[[4 4 4 4 4 4 4 4 4 4]\n",
            " [4 4 4 4 4 4 4 4 4 4]\n",
            " [4 4 4 4 4 4 4 4 4 4]\n",
            " [4 4 4 4 4 4 4 4 4 4]\n",
            " [4 4 4 4 4 4 4 4 4 4]\n",
            " [4 4 4 4 4 4 4 4 4 4]\n",
            " [4 4 4 4 4 4 4 4 4 4]\n",
            " [4 4 4 4 4 4 4 4 4 4]\n",
            " [4 4 4 4 4 4 4 4 4 4]\n",
            " [4 4 4 4 4 4 4 4 4 4]]\n",
            "\n",
            "[[0. 0. 0.]\n",
            " [0. 0. 0.]\n",
            " [0. 0. 0.]]\n",
            "\n",
            "[[1. 1. 1.]\n",
            " [1. 1. 1.]\n",
            " [1. 1. 1.]]\n",
            "\n",
            "[[2.e-323 2.e-323 2.e-323]\n",
            " [2.e-323 2.e-323 2.e-323]]\n"
          ]
        }
      ]
    },
    {
      "cell_type": "code",
      "source": [
        "import numpy as np\n",
        "a=np.nan\n",
        "print(a)\n",
        "print()\n",
        "b=np.inf\n",
        "print(b)\n",
        "\n",
        "print(np.sqrt(-1))\n",
        "print()\n",
        "print(np.array([10])/0)"
      ],
      "metadata": {
        "colab": {
          "base_uri": "https://localhost:8080/"
        },
        "id": "_v5SAoyE1WLJ",
        "outputId": "5b5e8679-7ecb-4e6a-a266-926de2eeaa3c"
      },
      "execution_count": null,
      "outputs": [
        {
          "output_type": "stream",
          "name": "stdout",
          "text": [
            "nan\n",
            "\n",
            "inf\n",
            "nan\n",
            "\n",
            "[inf]\n"
          ]
        },
        {
          "output_type": "stream",
          "name": "stderr",
          "text": [
            "<ipython-input-26-872d4288d518>:8: RuntimeWarning: invalid value encountered in sqrt\n",
            "  print(np.sqrt(-1))\n",
            "<ipython-input-26-872d4288d518>:10: RuntimeWarning: divide by zero encountered in divide\n",
            "  print(np.array([10])/0)\n"
          ]
        }
      ]
    },
    {
      "cell_type": "code",
      "source": [
        "import numpy as np\n",
        "a=np.arange(10,100,2)\n",
        "b=np.linspace(10,100,10)#divides evenly\n",
        "print(a)\n",
        "print()\n",
        "print(b)"
      ],
      "metadata": {
        "colab": {
          "base_uri": "https://localhost:8080/"
        },
        "id": "lSPr4De51WH3",
        "outputId": "ff8b16f6-26e1-4236-a1dd-95c0386be4d9"
      },
      "execution_count": null,
      "outputs": [
        {
          "output_type": "stream",
          "name": "stdout",
          "text": [
            "[10 12 14 16 18 20 22 24 26 28 30 32 34 36 38 40 42 44 46 48 50 52 54 56\n",
            " 58 60 62 64 66 68 70 72 74 76 78 80 82 84 86 88 90 92 94 96 98]\n",
            "\n",
            "[ 10.  20.  30.  40.  50.  60.  70.  80.  90. 100.]\n"
          ]
        }
      ]
    },
    {
      "cell_type": "code",
      "source": [
        "import numpy as np\n",
        "a=np.array([[1,2,3],[4,5,6]])\n",
        "print(a)\n",
        "print()\n",
        "b=np.append(a,[[7,8,9]])\n",
        "print(b)\n",
        "print()\n",
        "c=np.insert(a,1,[10,11,12])\n",
        "print(c)\n",
        "print()\n",
        "print(np.stack((a,a)))\n",
        "print()\n",
        "print(np.hstack((a,a)))\n",
        "print()\n",
        "np.vstack((a,a))"
      ],
      "metadata": {
        "colab": {
          "base_uri": "https://localhost:8080/"
        },
        "id": "-Ls-knjU1WF3",
        "outputId": "6cf3f21c-a669-45b7-98f8-2e2cd81326fb"
      },
      "execution_count": null,
      "outputs": [
        {
          "output_type": "stream",
          "name": "stdout",
          "text": [
            "[[1 2 3]\n",
            " [4 5 6]]\n",
            "\n",
            "[1 2 3 4 5 6 7 8 9]\n",
            "\n",
            "[ 1 10 11 12  2  3  4  5  6]\n",
            "\n",
            "\n",
            "\n"
          ]
        },
        {
          "output_type": "execute_result",
          "data": {
            "text/plain": [
              "array([[1, 2, 3],\n",
              "       [4, 5, 6],\n",
              "       [1, 2, 3],\n",
              "       [4, 5, 6]])"
            ]
          },
          "metadata": {},
          "execution_count": 41
        }
      ]
    },
    {
      "cell_type": "code",
      "source": [
        "import numpy as np\n",
        "# a=np.array([[1,2,3],[4,5,6]])\n",
        "# print(a)\n",
        "guess=0\n",
        "x=np.random.randint(5)\n",
        "while(True):\n",
        "  a=int(input(\"Enter a random number : if it match then you win :: \") )\n",
        "  if a==x:\n",
        "    print(\"You win\")\n",
        "    break;40\n",
        "  elif(a>x):\n",
        "    print(\"large number\")\n",
        "  else:\n",
        "    print(\"small number\")\n",
        "    guess=guess+1\n",
        "print(f\"\\033[34mYou took no of guess ={guess}\")\n",
        "\n"
      ],
      "metadata": {
        "id": "pbML0wqX1WDM"
      },
      "execution_count": null,
      "outputs": []
    },
    {
      "cell_type": "code",
      "source": [],
      "metadata": {
        "id": "xCaaUxnl1WAf"
      },
      "execution_count": null,
      "outputs": []
    }
  ]
}