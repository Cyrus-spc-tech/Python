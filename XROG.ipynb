{
  "cells": [
    {
      "cell_type": "markdown",
      "metadata": {
        "id": "view-in-github",
        "colab_type": "text"
      },
      "source": [
        "<a href=\"https://colab.research.google.com/github/Cyrus-spc-tech/Python/blob/main/XROG.ipynb\" target=\"_parent\"><img src=\"https://colab.research.google.com/assets/colab-badge.svg\" alt=\"Open In Colab\"/></a>"
      ]
    },
    {
      "cell_type": "markdown",
      "source": [
        "# Old programms matplot, panda,*italicized text* df"
      ],
      "metadata": {
        "id": "pCVcs3LBnhZg"
      }
    },
    {
      "cell_type": "code",
      "source": [
        "pip install  TensorFlow\n",
        "pip install pillow"
      ],
      "metadata": {
        "id": "nc4ZuGmWK2dd",
        "colab": {
          "base_uri": "https://localhost:8080/"
        },
        "outputId": "02be51bd-a9ba-4bde-84c9-6f837aa20dfb"
      },
      "execution_count": null,
      "outputs": [
        {
          "output_type": "stream",
          "name": "stdout",
          "text": [
            "Requirement already satisfied: TensorFlow in /usr/local/lib/python3.10/dist-packages (2.15.0)\n",
            "Requirement already satisfied: absl-py>=1.0.0 in /usr/local/lib/python3.10/dist-packages (from TensorFlow) (1.4.0)\n",
            "Requirement already satisfied: astunparse>=1.6.0 in /usr/local/lib/python3.10/dist-packages (from TensorFlow) (1.6.3)\n",
            "Requirement already satisfied: flatbuffers>=23.5.26 in /usr/local/lib/python3.10/dist-packages (from TensorFlow) (24.3.25)\n",
            "Requirement already satisfied: gast!=0.5.0,!=0.5.1,!=0.5.2,>=0.2.1 in /usr/local/lib/python3.10/dist-packages (from TensorFlow) (0.5.4)\n",
            "Requirement already satisfied: google-pasta>=0.1.1 in /usr/local/lib/python3.10/dist-packages (from TensorFlow) (0.2.0)\n",
            "Requirement already satisfied: h5py>=2.9.0 in /usr/local/lib/python3.10/dist-packages (from TensorFlow) (3.9.0)\n",
            "Requirement already satisfied: libclang>=13.0.0 in /usr/local/lib/python3.10/dist-packages (from TensorFlow) (18.1.1)\n",
            "Requirement already satisfied: ml-dtypes~=0.2.0 in /usr/local/lib/python3.10/dist-packages (from TensorFlow) (0.2.0)\n",
            "Requirement already satisfied: numpy<2.0.0,>=1.23.5 in /usr/local/lib/python3.10/dist-packages (from TensorFlow) (1.25.2)\n",
            "Requirement already satisfied: opt-einsum>=2.3.2 in /usr/local/lib/python3.10/dist-packages (from TensorFlow) (3.3.0)\n",
            "Requirement already satisfied: packaging in /usr/local/lib/python3.10/dist-packages (from TensorFlow) (24.0)\n",
            "Requirement already satisfied: protobuf!=4.21.0,!=4.21.1,!=4.21.2,!=4.21.3,!=4.21.4,!=4.21.5,<5.0.0dev,>=3.20.3 in /usr/local/lib/python3.10/dist-packages (from TensorFlow) (3.20.3)\n",
            "Requirement already satisfied: setuptools in /usr/local/lib/python3.10/dist-packages (from TensorFlow) (67.7.2)\n",
            "Requirement already satisfied: six>=1.12.0 in /usr/local/lib/python3.10/dist-packages (from TensorFlow) (1.16.0)\n",
            "Requirement already satisfied: termcolor>=1.1.0 in /usr/local/lib/python3.10/dist-packages (from TensorFlow) (2.4.0)\n",
            "Requirement already satisfied: typing-extensions>=3.6.6 in /usr/local/lib/python3.10/dist-packages (from TensorFlow) (4.11.0)\n",
            "Requirement already satisfied: wrapt<1.15,>=1.11.0 in /usr/local/lib/python3.10/dist-packages (from TensorFlow) (1.14.1)\n",
            "Requirement already satisfied: tensorflow-io-gcs-filesystem>=0.23.1 in /usr/local/lib/python3.10/dist-packages (from TensorFlow) (0.37.0)\n",
            "Requirement already satisfied: grpcio<2.0,>=1.24.3 in /usr/local/lib/python3.10/dist-packages (from TensorFlow) (1.64.0)\n",
            "Requirement already satisfied: tensorboard<2.16,>=2.15 in /usr/local/lib/python3.10/dist-packages (from TensorFlow) (2.15.2)\n",
            "Requirement already satisfied: tensorflow-estimator<2.16,>=2.15.0 in /usr/local/lib/python3.10/dist-packages (from TensorFlow) (2.15.0)\n",
            "Requirement already satisfied: keras<2.16,>=2.15.0 in /usr/local/lib/python3.10/dist-packages (from TensorFlow) (2.15.0)\n",
            "Requirement already satisfied: wheel<1.0,>=0.23.0 in /usr/local/lib/python3.10/dist-packages (from astunparse>=1.6.0->TensorFlow) (0.43.0)\n",
            "Requirement already satisfied: google-auth<3,>=1.6.3 in /usr/local/lib/python3.10/dist-packages (from tensorboard<2.16,>=2.15->TensorFlow) (2.27.0)\n",
            "Requirement already satisfied: google-auth-oauthlib<2,>=0.5 in /usr/local/lib/python3.10/dist-packages (from tensorboard<2.16,>=2.15->TensorFlow) (1.2.0)\n",
            "Requirement already satisfied: markdown>=2.6.8 in /usr/local/lib/python3.10/dist-packages (from tensorboard<2.16,>=2.15->TensorFlow) (3.6)\n",
            "Requirement already satisfied: requests<3,>=2.21.0 in /usr/local/lib/python3.10/dist-packages (from tensorboard<2.16,>=2.15->TensorFlow) (2.31.0)\n",
            "Requirement already satisfied: tensorboard-data-server<0.8.0,>=0.7.0 in /usr/local/lib/python3.10/dist-packages (from tensorboard<2.16,>=2.15->TensorFlow) (0.7.2)\n",
            "Requirement already satisfied: werkzeug>=1.0.1 in /usr/local/lib/python3.10/dist-packages (from tensorboard<2.16,>=2.15->TensorFlow) (3.0.3)\n",
            "Requirement already satisfied: cachetools<6.0,>=2.0.0 in /usr/local/lib/python3.10/dist-packages (from google-auth<3,>=1.6.3->tensorboard<2.16,>=2.15->TensorFlow) (5.3.3)\n",
            "Requirement already satisfied: pyasn1-modules>=0.2.1 in /usr/local/lib/python3.10/dist-packages (from google-auth<3,>=1.6.3->tensorboard<2.16,>=2.15->TensorFlow) (0.4.0)\n",
            "Requirement already satisfied: rsa<5,>=3.1.4 in /usr/local/lib/python3.10/dist-packages (from google-auth<3,>=1.6.3->tensorboard<2.16,>=2.15->TensorFlow) (4.9)\n",
            "Requirement already satisfied: requests-oauthlib>=0.7.0 in /usr/local/lib/python3.10/dist-packages (from google-auth-oauthlib<2,>=0.5->tensorboard<2.16,>=2.15->TensorFlow) (1.3.1)\n",
            "Requirement already satisfied: charset-normalizer<4,>=2 in /usr/local/lib/python3.10/dist-packages (from requests<3,>=2.21.0->tensorboard<2.16,>=2.15->TensorFlow) (3.3.2)\n",
            "Requirement already satisfied: idna<4,>=2.5 in /usr/local/lib/python3.10/dist-packages (from requests<3,>=2.21.0->tensorboard<2.16,>=2.15->TensorFlow) (3.7)\n",
            "Requirement already satisfied: urllib3<3,>=1.21.1 in /usr/local/lib/python3.10/dist-packages (from requests<3,>=2.21.0->tensorboard<2.16,>=2.15->TensorFlow) (2.0.7)\n",
            "Requirement already satisfied: certifi>=2017.4.17 in /usr/local/lib/python3.10/dist-packages (from requests<3,>=2.21.0->tensorboard<2.16,>=2.15->TensorFlow) (2024.2.2)\n",
            "Requirement already satisfied: MarkupSafe>=2.1.1 in /usr/local/lib/python3.10/dist-packages (from werkzeug>=1.0.1->tensorboard<2.16,>=2.15->TensorFlow) (2.1.5)\n",
            "Requirement already satisfied: pyasn1<0.7.0,>=0.4.6 in /usr/local/lib/python3.10/dist-packages (from pyasn1-modules>=0.2.1->google-auth<3,>=1.6.3->tensorboard<2.16,>=2.15->TensorFlow) (0.6.0)\n",
            "Requirement already satisfied: oauthlib>=3.0.0 in /usr/local/lib/python3.10/dist-packages (from requests-oauthlib>=0.7.0->google-auth-oauthlib<2,>=0.5->tensorboard<2.16,>=2.15->TensorFlow) (3.2.2)\n"
          ]
        }
      ]
    },
    {
      "cell_type": "code",
      "source": [
        "import tensorflow as tf\n",
        "print(tf.version)\n",
        "print(tf.test.is_gpu_available)\n",
        "a=tf.constant(10)\n",
        "b=tf.constant([[1,2],[1,2]])\n",
        "print(a)\n",
        "print(b)"
      ],
      "metadata": {
        "colab": {
          "base_uri": "https://localhost:8080/"
        },
        "id": "B9G3o-eWMH5i",
        "outputId": "81a72e81-07af-4023-f264-cc234bdb8c1d"
      },
      "execution_count": null,
      "outputs": [
        {
          "output_type": "stream",
          "name": "stdout",
          "text": [
            "<module 'tensorflow._api.v2.version' from '/usr/local/lib/python3.10/dist-packages/tensorflow/_api/v2/version/__init__.py'>\n",
            "<function is_gpu_available at 0x78a0d7d32a70>\n",
            "tf.Tensor(10, shape=(), dtype=int32)\n",
            "tf.Tensor(\n",
            "[[1 2]\n",
            " [1 2]], shape=(2, 2), dtype=int32)\n"
          ]
        }
      ]
    },
    {
      "cell_type": "code",
      "execution_count": null,
      "metadata": {
        "colab": {
          "base_uri": "https://localhost:8080/"
        },
        "id": "Sg_eXOP1SIPt",
        "outputId": "d1cf3341-fd99-41cb-ba2a-b1545947f03e"
      },
      "outputs": [
        {
          "output_type": "stream",
          "name": "stdout",
          "text": [
            "hello 123 \n",
            "ab4\n"
          ]
        }
      ],
      "source": [
        "print(\"hello 123 \") #reweite the sentence\n",
        "str='ab'\n",
        "N='4'\n",
        "print(str+N)"
      ]
    },
    {
      "cell_type": "code",
      "source": [
        "\n"
      ],
      "metadata": {
        "id": "PO4TdJil2SUc",
        "colab": {
          "base_uri": "https://localhost:8080/"
        },
        "outputId": "ac44599f-9b9a-43c3-fc8c-fea2aa539d1d"
      },
      "execution_count": 1,
      "outputs": [
        {
          "output_type": "stream",
          "name": "stdout",
          "text": [
            "Requirement already satisfied: pillow in /usr/local/lib/python3.10/dist-packages (9.4.0)\n"
          ]
        }
      ]
    },
    {
      "cell_type": "markdown",
      "source": [],
      "metadata": {
        "id": "wafFLdpS2Vni"
      }
    },
    {
      "cell_type": "code",
      "source": [
        "from PIL import Image, ImageDraw, ImageFont\n",
        "import numpy as np\n",
        "\n",
        "def sentence_to_matrix(sentence, width, height):\n",
        "    # Create a blank image with the specified width and height\n",
        "    image = Image.new('RGB', (width, height), color=(255, 255, 255))\n",
        "    draw = ImageDraw.Draw(image)\n",
        "\n",
        "    # Load a font\n",
        "    font = ImageFont.truetype('/Arial.ttf', 15)\n",
        "\n",
        "    # Calculate the position to draw the sentence\n",
        "    textbbox, textlength = draw.textsize(sentence, font=font)\n",
        "    x = (width - textbbox) // 2\n",
        "    y = (height - textlength) // 2\n",
        "\n",
        "    # Draw the sentence on the image\n",
        "    draw.text((x, y), sentence, font=font, fill=(0, 0, 0))\n",
        "\n",
        "    # Convert the image to a matrix\n",
        "    matrix = np.array(image)\n",
        "\n",
        "    return matrix\n",
        "\n",
        "# Example usage\n",
        "sentence = \"hello how are you \"\n",
        "width = 100\n",
        "height = 50\n",
        "matrix = sentence_to_matrix(sentence, width, height)\n",
        "\n",
        "# Save the matrix as an image\n",
        "Image.fromarray(matrix).save('output.png')"
      ],
      "metadata": {
        "id": "HE-jj1Td2Shu"
      },
      "execution_count": null,
      "outputs": []
    },
    {
      "cell_type": "code",
      "source": [],
      "metadata": {
        "id": "L_sYWYVG2SmK"
      },
      "execution_count": null,
      "outputs": []
    },
    {
      "cell_type": "code",
      "source": [],
      "metadata": {
        "id": "R4XmiLa-2Sp9"
      },
      "execution_count": null,
      "outputs": []
    },
    {
      "cell_type": "code",
      "source": [],
      "metadata": {
        "id": "yKCnyZKB2St2"
      },
      "execution_count": null,
      "outputs": []
    },
    {
      "cell_type": "code",
      "source": [
        "print(\"No to change one digit to another \")\n",
        "a=int(input(\"Enter a number :\"))\n",
        "b=int(input(\"Number to replace : \"))\n",
        "c=int(input(\"Number to replace from : \"))\n",
        "d=str(a)\n",
        "e=d.replace(str(b),str(c))\n",
        "new=int(e)\n",
        "print(e)"
      ],
      "metadata": {
        "id": "o5F_raOwvD2k"
      },
      "execution_count": null,
      "outputs": []
    },
    {
      "cell_type": "code",
      "source": [
        "print(\"No to check is pallidrom or not  \")\n",
        "a= int(input(\"Enter a number: \"))\n"
      ],
      "metadata": {
        "id": "dJMDPSb-vD9z"
      },
      "execution_count": null,
      "outputs": []
    },
    {
      "cell_type": "code",
      "source": [
        "from getpass import getpass\n",
        "print(\"E P I C    🪨  📄 ✂️    B A T T L E \")\n",
        "print()\n",
        "print(\"Select your move (R, P or S)\")\n",
        "print()\n",
        "player1Move = getpass(\"Player 1 > \")\n",
        "print()\n",
        "player2Move = getpass(\"Player 2 > \")\n",
        "print()\n",
        "if player1Move == \"R\" and player2Move == \"R\":\n",
        "    print(\"draw!\")\n",
        "elif player1Move == \"R\":\n",
        "    if player2Move == \"S\":\n",
        "        print(\"Player1 WIN\")\n",
        "    elif player2Move == \"P\":\n",
        "        print(\"Player2 WIN\")\n",
        "    else:\n",
        "        print(\"Invalid Move Player 2!\")\n",
        "elif player1Move == \"P\":\n",
        "    if player2Move == \"R\":\n",
        "        print(\"Player1 WIN\")\n",
        "    elif player2Move == \"S\":\n",
        "        print(\"Player2 WIN\")\n",
        "    elif player2Move == \"P\":\n",
        "        print(\"Draw.\")\n",
        "    else:\n",
        "        print(\"Invalid Move Player 2!\")\n",
        "elif player1Move == \"S\":\n",
        "    if player2Move == \"R\":\n",
        "        print(\"Player 2WIN \")\n",
        "    elif player2Move == \"S\":\n",
        "        print(\"Draw.\")\n",
        "    elif player2Move == \"P\":\n",
        "        print(\"Player1WIN \")\n",
        "    else:\n",
        "        print(\"Invalid Move Player 2!\")\n",
        "else:\n",
        "    print(\"Invalid Move Player 1!\")\n"
      ],
      "metadata": {
        "id": "VfdDGe6pVcpc"
      },
      "execution_count": null,
      "outputs": []
    },
    {
      "cell_type": "code",
      "source": [
        "num=float(input(\"Enter a no \"))\n",
        "num2=float(input(\"enter a no 2 \"))\n",
        "print(\"Before swapping \")\n",
        "print(num,num2)\n",
        "num3=num\n",
        "num=num2\n",
        "num2=num3\n",
        "print(\"After swapping \")\n",
        "print(num,num2)"
      ],
      "metadata": {
        "id": "n2R-NwH-0GFS"
      },
      "execution_count": null,
      "outputs": []
    },
    {
      "cell_type": "code",
      "source": [],
      "metadata": {
        "id": "fdMVPccm16CT"
      },
      "execution_count": null,
      "outputs": []
    },
    {
      "cell_type": "code",
      "source": [],
      "metadata": {
        "id": "gbImjdQB2L0u"
      },
      "execution_count": null,
      "outputs": []
    },
    {
      "cell_type": "code",
      "source": [
        "import csv\n",
        "\n",
        "# with open('day.csv', 'r') as file:\n",
        "#     reader = csv.reader(file)\n",
        "#     for row in reader:\n",
        "#         print(row)\n",
        "\n",
        "with open('my_file.csv', 'w', newline='') as file:\n",
        "    writer = csv.writer(file)\n",
        "    writer.writerow(['Name', 'Age', 'City'])\n",
        "    writer.writerow(['John', '30', 'New York'])\n",
        "    writer.writerow(['Mary', '25', 'London'])"
      ],
      "metadata": {
        "id": "BjrbCqjxxNNo"
      },
      "execution_count": null,
      "outputs": []
    },
    {
      "cell_type": "code",
      "source": [
        "from google.colab import drive\n",
        "drive.mount('/content/drive')"
      ],
      "metadata": {
        "id": "x2Ce1lv3x69F"
      },
      "execution_count": null,
      "outputs": []
    },
    {
      "cell_type": "code",
      "source": [
        "import seaborn as sns\n",
        "import matplotlib.pyplot as plt\n",
        "import pandas as pd\n",
        "A=[1000,2300,3933,4440]\n",
        "B=[2000,4098,4495,5344]\n",
        "plt.pie(A,explode=[0.1,0.1,0.1,0.1])\n",
        "plt.label([\"monday\",\"Tuesday\"])\n",
        "plt.show()"
      ],
      "metadata": {
        "id": "tMMPH0ioVceK"
      },
      "execution_count": null,
      "outputs": []
    },
    {
      "cell_type": "code",
      "source": [],
      "metadata": {
        "id": "d1Y6rHjqVcQH"
      },
      "execution_count": null,
      "outputs": []
    },
    {
      "cell_type": "code",
      "source": [],
      "metadata": {
        "id": "771dvn4OVcCQ"
      },
      "execution_count": null,
      "outputs": []
    },
    {
      "cell_type": "code",
      "source": [
        "print(\"Hello world\")"
      ],
      "metadata": {
        "id": "NTDniXpnNisx"
      },
      "execution_count": null,
      "outputs": []
    },
    {
      "cell_type": "code",
      "source": [],
      "metadata": {
        "id": "sfJAq6DTw0R-"
      },
      "execution_count": null,
      "outputs": []
    },
    {
      "cell_type": "code",
      "execution_count": null,
      "metadata": {
        "id": "B8jK0zygqsQs"
      },
      "outputs": [],
      "source": [
        "import matplotlib.pyplot as plt\n",
        "sales1=[1,5,2,3,7,11,8,12,1,9,5]\n",
        "sales2=[3,7,4,6,4,5,14,7,6,6,12]\n",
        "day1=[67,89,45,23]\n",
        "plt.hist(sales1,10,ec='blue',orientation='horizontal')\n",
        "plt.hist(sales2,10,(0,20),ec='r')\n",
        "plt.plot(sales1,color='olive',linestyle='-.',marker='_',markersize=20,markeredgecolor='blue')\n",
        "plt.plot(sales2,linestyle=':',marker='|',markersize=20,markeredgecolor='blue')\n",
        "plt.boxplot(sales1,vert=1)\n",
        "plt.grid(color='c')\n",
        "plt.title('monthly sales of 2016 and 2017')\n",
        "plt.xlabel('sales')\n",
        "plt.ylabel('Month')\n",
        "plt.show()"
      ]
    },
    {
      "cell_type": "code",
      "source": [
        "import matplotlib.pyplot as plt\n",
        "age=[1,2,3,4,5,6]\n",
        "plt.hexbin(age)\n",
        "pl"
      ],
      "metadata": {
        "id": "7XYwikkByrfW"
      },
      "execution_count": null,
      "outputs": []
    },
    {
      "cell_type": "code",
      "execution_count": null,
      "metadata": {
        "id": "EHVBt-Y-qsVF"
      },
      "outputs": [],
      "source": [
        "import matplotlib.pyplot as plt\n",
        "age=[1,12,22,21,20,21,31,2,32,40,14,33,50,44,45,46,47,43]\n",
        "plt.xlabel('age')\n",
        "plt.ylabel('no. of person')\n",
        "plt.title('verticle histogram')\n",
        "plt.hist(age,'auto',ec='pink')\n",
        "plt.show()"
      ]
    },
    {
      "cell_type": "code",
      "execution_count": null,
      "metadata": {
        "id": "b7LASTUiE1Q7"
      },
      "outputs": [],
      "source": [
        "import matplotlib.pyplot as plt\n",
        "import numpy as np\n",
        "a=np.array ([22,87,5,43,56,73\n",
        "             ,55,54,11,72,65,20,\n",
        "             51,5,79,31,27])\n",
        "plt.hist(a,bins=[0,10,20,30,40,50,60,70,80,90,100],\n",
        "         color='b',ec='r',orientation='horizontal')\n",
        "plt.yticks()\n",
        "plt.show()"
      ]
    },
    {
      "cell_type": "code",
      "execution_count": null,
      "metadata": {
        "id": "Rs0AKtMcQKso"
      },
      "outputs": [],
      "source": [
        "import matplotlib.pyplot as plt\n",
        "import numpy as np\n",
        "\n",
        "x=np.random.normal(170,10,250)\n",
        "plt.hist(x,color='light green',ec='#4DBEEE')\n",
        "plt.show()\n"
      ]
    },
    {
      "cell_type": "code",
      "execution_count": null,
      "metadata": {
        "id": "ifI6azdJQKvS"
      },
      "outputs": [],
      "source": []
    },
    {
      "cell_type": "code",
      "execution_count": null,
      "metadata": {
        "id": "NYuBh-sYINlv"
      },
      "outputs": [],
      "source": [
        "import matplotlib.pyplot as plt\n",
        "x=['one','two','three','four','five']\n",
        "y=[5,24,35,67,12]\n",
        "plt.figure(figsize=(8,6))\n",
        "plt.hist(x,bins=100,alpha=0.5)\n",
        "\n",
        "plt.show()"
      ]
    },
    {
      "cell_type": "code",
      "execution_count": null,
      "metadata": {
        "id": "unH6wV1lLnag"
      },
      "outputs": [],
      "source": [
        "import matplotlib.pyplot as plt\n",
        "sales1=[1,5,8,9,7,11,8,12,14,9,5]\n",
        "sales2=[3,7,9,6,4,5,14,7,6,16,12]\n",
        "sales3=[3,7,4,6,3,6,14,7,6,6,12]\n",
        "line_chart1=plt.plot(sales1,'g')\n",
        "line_chart2=plt.plot(sales2,'m')\n",
        "plt.plot(sales3,'y')\n",
        "plt.title('monthly sales of 2016 and 2017')\n",
        "plt.xlabel('sales')\n",
        "plt.ylabel('Month')\n",
        "plt.legend(['year2016','year 2017'],loc=4)\n",
        "plt.show()\n"
      ]
    },
    {
      "cell_type": "code",
      "execution_count": null,
      "metadata": {
        "id": "hMyOtvKD9ufI"
      },
      "outputs": [],
      "source": [
        "import matplotlib.pyplot as plt\n",
        "cities=['DELHI','MUMBAI','BANGALORE','HYDRABAD']\n",
        "pop=[2800000,2700000,2280000,2700000]\n",
        "plt.title(\"Bar Chart \")\n",
        "plt.xlabel('Cities')\n",
        "plt.ylabel('Population')\n",
        "plt.bar(cities,pop)\n",
        "plt.show()\n"
      ]
    },
    {
      "cell_type": "code",
      "execution_count": null,
      "metadata": {
        "id": "HlMrxaEqAK5R"
      },
      "outputs": [],
      "source": [
        "import matplotlib.pyplot as plt\n",
        "cities=['DELHI','MUMBAI','BANGALORE','HYDRABAD']\n",
        "pop1=[2800000,2700000,2280000,2700000]\n",
        "pop2=[5600000,6700000,6664444,7676544]\n",
        "plt.title(\"Bar Chart \")\n",
        "plt.xlabel('Cities')\n",
        "plt.ylabel('Population')\n",
        "plt.hist(pop1)\n",
        "\n",
        "plt.show()"
      ]
    },
    {
      "cell_type": "code",
      "execution_count": null,
      "metadata": {
        "id": "e3ydAZofONsD"
      },
      "outputs": [],
      "source": [
        "import matplotlib.pyplot as plt\n",
        "cities=['DELHI','MUMBAI','BANGALORE','HYDRABAD']\n",
        "pop=[2800000,2700000,2280000,2700000]\n",
        "plt.title(\"Bar Chart \")\n",
        "plt.xlabel('Cities')\n",
        "plt.ylabel('Population')\n",
        "plt.bar(cities,pop,width=[0.5,.6,.7,.8],color=['red','b','green','m'])\n",
        "plt.show()\n"
      ]
    },
    {
      "cell_type": "code",
      "execution_count": null,
      "metadata": {
        "id": "bXlExqhzOiBM"
      },
      "outputs": [],
      "source": [
        "import matplotlib.pyplot as plt\n",
        "cities=['DELHI','MUMBAI','BANGALORE','HYDRABAD']\n",
        "pop=[2800000,2700000,2280000,2700000]\n",
        "plt.title(\"Bar Chart \")\n",
        "plt.xlabel('Cities')\n",
        "plt.ylabel('Population')\n",
        "plt.barh(cities,pop)\n",
        "plt.show()\n"
      ]
    },
    {
      "cell_type": "code",
      "execution_count": null,
      "metadata": {
        "id": "T6bbXPPV_6vn"
      },
      "outputs": [],
      "source": [
        "import matplotlib.pyplot as plt\n",
        "x=['6th','7th','8th','9th','10th','11th','12th']\n",
        "y=[130,120,135,130,150,80,75]\n",
        "plt.title(\"strength of students\")\n",
        "plt.xlabel(\"class\")\n",
        "plt.ylabel(\"no. of students\")\n",
        "plt.bar(x,y,color='k',width=0.1)\n",
        "plt.show()"
      ]
    },
    {
      "cell_type": "code",
      "execution_count": null,
      "metadata": {
        "id": "JSyIQalmSP9Y"
      },
      "outputs": [],
      "source": [
        "print(\"12389\")"
      ]
    },
    {
      "cell_type": "code",
      "execution_count": null,
      "metadata": {
        "id": "3tsuTqc8SUr6"
      },
      "outputs": [],
      "source": [
        "print =  int(input(\"123\"))"
      ]
    },
    {
      "cell_type": "code",
      "execution_count": null,
      "metadata": {
        "id": "YAisVWioSbjQ"
      },
      "outputs": [],
      "source": [
        "a=int(input(\"enter ur 1st no.\"))   #programm to do simple arthamatic operations\n",
        "b=int(input(\"enter ur 2nd no.\"))\n",
        "c=a**b # power\n",
        "d=a*b  # multiplication\n",
        "e=a/b  # divide\n",
        "f=a-b  # subtration\n",
        "g=a%b  # remainder\n",
        "h=a+b  # add\n",
        "i=a//b #\n",
        "print(c)\n",
        "print(d)\n",
        "print(e)\n",
        "print(f)\n",
        "print(g)\n",
        "print(h)\n",
        "print(i)\n",
        "\n",
        "\n"
      ]
    },
    {
      "cell_type": "code",
      "execution_count": null,
      "metadata": {
        "id": "URph8QatSbmq"
      },
      "outputs": [],
      "source": [
        "a=int(input(\"enter n1 \"))             #programm for find greater of three no.\n",
        "b= int (input(\"enter n2 \"))\n",
        "c= int (input(\"enter n3 \"))\n",
        "if a>b and a>C :\n",
        "   print(a,\"is larger\")\n",
        "elif b>a and b>c :\n",
        "  print(b,\"is greater\")\n",
        "else : print (c,\"is greater \")"
      ]
    },
    {
      "cell_type": "code",
      "execution_count": null,
      "metadata": {
        "id": "FZYqd4XhUr7T"
      },
      "outputs": [],
      "source": [
        "# Python Program to calculate the square root\n",
        "num = float(input( \"root of \"))\n",
        "sqrt = num ** 0.5\n",
        "print(\"is \",sqrt)"
      ]
    },
    {
      "cell_type": "code",
      "execution_count": null,
      "metadata": {
        "id": "UqCi4hc4XzKa"
      },
      "outputs": [],
      "source": [
        "# Python Program to convert temperature in celsius to fahrenheit\n",
        "celsius = float(input(\"enter celcius \"))\n",
        "fahrenheit = (celsius * 1.8) + 32\n",
        "print(fahrenheit,\"  fra\")"
      ]
    },
    {
      "cell_type": "code",
      "execution_count": null,
      "metadata": {
        "id": "gxr-cWh6YzgE"
      },
      "outputs": [],
      "source": [
        "farhenheit=float(input(\"enter fra \"))   # programm to convert farhenheit to celsius\n",
        "celsius = (farhenheit - 32) / 1.8\n",
        "print(celsius,\"  celsius\")"
      ]
    },
    {
      "cell_type": "code",
      "execution_count": null,
      "metadata": {
        "id": "gZep_S1fYz3b"
      },
      "outputs": [],
      "source": [
        "# Program make a simple calculator\n",
        "def add(x, y):\n",
        "    return x + y\n",
        "def subtract(x, y):\n",
        "    return x - y\n",
        "def multiply(x, y):\n",
        "    return x * y\n",
        "def divide(x, y):\n",
        "    return x / y\n",
        "\n",
        "\n",
        "print(\"Select operation.\")\n",
        "print(\"1.Add\")\n",
        "print(\"2.Subtract\")\n",
        "print(\"3.Multiply\")\n",
        "print(\"4.Divide\")\n",
        "\n",
        "while True:\n",
        "    # take input from the user\n",
        "    choice = input(\"Enter choice(1/2/3/4): \")\n",
        "\n",
        "    if choice in ('1', '2', '3', '4'):\n",
        "        num1 = float(input(\"Enter first number: \"))\n",
        "        num2 = float(input(\"Enter second number: \"))\n",
        "\n",
        "        if choice == '1':\n",
        "            print(num1, \"+\", num2, \"=\", add(num1, num2))\n",
        "\n",
        "        elif choice == '2':\n",
        "            print(num1, \"-\", num2, \"=\", subtract(num1, num2))\n",
        "\n",
        "        elif choice == '3':\n",
        "            print(num1, \"*\", num2, \"=\", multiply(num1, num2))\n",
        "\n",
        "        elif choice == '4':\n",
        "            print(num1, \"/\", num2, \"=\", divide(num1, num2))\n",
        "\n",
        "        # check if user wants another calculation\n",
        "        # break the while loop if answer is no\n",
        "        next_calculation = input(\"Let's do next calculation? (yes/no): \")\n",
        "        if next_calculation == \"no\":\n",
        "          break\n",
        "\n",
        "    else:\n",
        "        print(\"Invalid Input\")"
      ]
    },
    {
      "cell_type": "code",
      "source": [
        "print(\"Choices\")\n",
        "print(\"press In for input.\")\n",
        "print(\"press Out for remove.\")\n",
        "print(\"Type No for stop.\")\n",
        "pandora=[]\n",
        "def inp():\n",
        "  x=input(\"enter element:-\")\n",
        "  print(pandora.append(x))\n",
        "  print(pandora)\n",
        "def out():\n",
        "  print(pandora.pop())\n",
        "  print(pandora)\n",
        "while True:\n",
        "  ch=input(\"ENTER [IN FOR INPUT],[OUT FOR REMOVE]:-\")\n",
        "  if (ch=='in'):\n",
        "    print(inp())\n",
        "  elif (ch=='out'):\n",
        "    print(out())\n",
        "  else:\n",
        "    break\n",
        "print(pandora)"
      ],
      "metadata": {
        "id": "W602A2b3Q7jJ"
      },
      "execution_count": null,
      "outputs": []
    },
    {
      "cell_type": "code",
      "execution_count": null,
      "metadata": {
        "id": "Z_LVsGKScKuz"
      },
      "outputs": [],
      "source": [
        "import pandas as pd\n",
        "a = [1, 7, 2 , 5]\n",
        "no1= pd.Series(a)\n",
        "\n",
        "print(no1) #print whole series\n",
        "\n",
        "print(no1[2])    #it will print simply the value  #2\n",
        "\n",
        "print(no1[2:4])   # it will print the list upto this"
      ]
    },
    {
      "cell_type": "code",
      "execution_count": null,
      "metadata": {
        "id": "MCHq_mbXsRfE"
      },
      "outputs": [],
      "source": [
        "\n",
        "import pandas as pd\n",
        "\n",
        "# a simple dictionary\n",
        "dict = {'Geeks' : 10,\n",
        "        'for' : 20,\n",
        "        'geeks' : 30}\n",
        "\n",
        "# create series from dictionary\n",
        "ser = pd.Series(dict)\n",
        "\n",
        "print(ser)"
      ]
    },
    {
      "cell_type": "code",
      "execution_count": null,
      "metadata": {
        "id": "J338n4zGjA_n"
      },
      "outputs": [],
      "source": [
        "import pandas as pd\n",
        "\n",
        "calories = {\"day1\": 420, \"day2\": 380, \"day3\": 390}\n",
        "\n",
        "data = pd.Series(calories)\n",
        "\n",
        "print(data)"
      ]
    },
    {
      "cell_type": "code",
      "execution_count": null,
      "metadata": {
        "id": "A4US5l0pnOXn"
      },
      "outputs": [],
      "source": [
        "import pandas as pd\n",
        "\n",
        "data = {\"calories\": [420, 380, 390],\n",
        "  \"duration\": [50, 40, 45] }\n",
        "a = pd.Series(data)\n",
        "print(a)"
      ]
    },
    {
      "cell_type": "code",
      "execution_count": null,
      "metadata": {
        "id": "QEGxHs6nnO7C"
      },
      "outputs": [],
      "source": [
        "import pandas as pd\n",
        "list = ['g', 'e', 'e', 'k', 's']\n",
        "ser = pd.Series(list)\n",
        "print(ser)"
      ]
    },
    {
      "cell_type": "code",
      "execution_count": null,
      "metadata": {
        "id": "_Fy1Qj53eIcG"
      },
      "outputs": [],
      "source": [
        "a = [1, 7, 2, 5]\n",
        "b=[\"apple\",\"y\",\"z\",\"x\"]\n",
        "myvar = pd.Series(a, index = b ) # enter index values f3t\n",
        "print(myvar)\n",
        "print(myvar[\"y\"])"
      ]
    },
    {
      "cell_type": "code",
      "execution_count": null,
      "metadata": {
        "id": "moCb3ITMtc_D"
      },
      "outputs": [],
      "source": [
        "# Program to display calendar of the given month and year\n",
        "import calendar\n",
        "yy =  int (input(\"enter year no . \"))\n",
        "mm = int(input(\"enter month no . \"))\n",
        "print(calendar.month(yy, mm))"
      ]
    },
    {
      "cell_type": "code",
      "execution_count": null,
      "metadata": {
        "id": "yUyYwva1uclB"
      },
      "outputs": [],
      "source": [
        "import time  #time count\n",
        "\n",
        "def countdown(time_sec):\n",
        "    while time_sec:\n",
        "        mins, secs = divmod(time_sec, 60)\n",
        "        timeformat = '{:02d}:{:02d}'.format(mins, secs)\n",
        "        print(timeformat, end='\\r')\n",
        "        time.sleep(1)\n",
        "        time_sec -= 1\n",
        "\n",
        "    print(\"stop\")\n",
        "\n",
        "countdown(10)"
      ]
    },
    {
      "cell_type": "code",
      "execution_count": null,
      "metadata": {
        "id": "mrb_7mobu8B8"
      },
      "outputs": [],
      "source": [
        "# 3x3 matrix\n",
        "X = [[12,7,3],#r1\n",
        "    [4 ,5,6],#r2\n",
        "    [7 ,8,9]]#r3\n",
        "# 3x3 matrix\n",
        "Y = [[5,8,1],\n",
        "    [6,7,3],\n",
        "    [4,5,9]]\n",
        "# result is 3x3\n",
        "result = [[0,0,0],\n",
        "         [0,0,0],\n",
        "         [0,0,0]]\n",
        "\n",
        "# iterate through rows of X\n",
        "for i in range(len(X)):\n",
        "   # iterate through columns of Y\n",
        "   for j in range(len(Y[0])):\n",
        "       # iterate through rows of Y\n",
        "       for k in range(len(Y)):\n",
        "           result[i][j] += X[i][k] * Y[k][j]\n",
        "\n",
        "for r in result :\n",
        "  print(r)"
      ]
    },
    {
      "cell_type": "code",
      "execution_count": null,
      "metadata": {
        "id": "fyBrru1WPoZf"
      },
      "outputs": [],
      "source": [
        "xdzzzzzzzzzzzzzzzzzzzzzzzzzzzzzzzzzzzzzzzzzzzzzzzzzzzzzzzzzzzzzzzzzzzzzzzzzzzzzzzzzzzzzzzzzzzzzzzzzzzzzzzzzzzzzzzzzzzzzzzzzzzzzzzzzzzzzzzzzzzzzzzzzzzzzzzzzzzzzzzzzzzzzzzzzzzzzzzzzzzzzzzzzzzzzzzzzzzzzzzzzzzzzz"
      ]
    },
    {
      "cell_type": "code",
      "execution_count": null,
      "metadata": {
        "id": "laydO4GLu7t5"
      },
      "outputs": [],
      "source": [
        "import matplotlib.pyplot as plt\n",
        "x=[80,85,90,95,100]\n",
        "y=[240,180,260,270,150]\n",
        "plt.barh(x,y,color='m',height=2)\n",
        "plt.show()"
      ]
    },
    {
      "cell_type": "code",
      "execution_count": null,
      "metadata": {
        "id": "aTb0Lo7qu71i"
      },
      "outputs": [],
      "source": [
        "# Program to transpose a matrix using a nested loop\n",
        "\n",
        "X = [[12,7],\n",
        "    [4 ,5],\n",
        "    [3 ,8]]\n",
        "\n",
        "result = [[0,0,0],\n",
        "         [0,0,0]]\n",
        "\n",
        "# iterate through rows\n",
        "for i in range(len(X)):\n",
        "   # iterate through columns\n",
        "   for j in range(len(X[0])):\n",
        "       result[j][i] = X[i][j]\n",
        "\n",
        "for r in result:\n",
        "   print(r)"
      ]
    },
    {
      "cell_type": "code",
      "execution_count": null,
      "metadata": {
        "id": "ZJfLHfg69msH"
      },
      "outputs": [],
      "source": [
        "import pandas as pd\n",
        "import matplotlib.pyplot as plt\n",
        "\n",
        "# creating dataframe\n",
        "dataFrame = pd.DataFrame({\"Car\": ['Bentley', 'Lexus', 'BMW', 'Mustang', 'Mercedes', 'Jaguar'],\n",
        "                          \"Cubic_Capacity\": [2000, 1800, 1500, 2500, 2200, 3000]})\n",
        "\n",
        "# plotting Horizontal Bar Chart\n",
        "dataFrame.plot.barh(x='Car', y='Cubic_Capacity', title='Car Specifications', color='blue')\n",
        "\n",
        "# set the label\n",
        "plt.xlabel(\"CC (Cubic Capacity)\" )\n",
        "plt.ylabel(\"car\")\n",
        "\n",
        "# display the plotted Horizontal Bar Chart\n",
        "plt.show()"
      ]
    },
    {
      "cell_type": "code",
      "source": [
        "for x in \"helloworld what is up\":\n",
        "  print(x)"
      ],
      "metadata": {
        "id": "9_boA57wPPRF"
      },
      "execution_count": null,
      "outputs": []
    },
    {
      "cell_type": "code",
      "source": [
        "import seaborn as sn\n",
        "x=[10,12,30,89]\n",
        "y=[23,78,90,89]\n",
        "sn.jointplot(x,y,kind=\"reg\")\n",
        "\n"
      ],
      "metadata": {
        "id": "GaAStds3x16V"
      },
      "execution_count": null,
      "outputs": []
    },
    {
      "cell_type": "code",
      "source": [
        "# This function adds two numbers\n",
        "def add(x, y):\n",
        "    return x + y\n",
        "\n",
        "# This function subtracts two numbers\n",
        "def subtract(x, y):\n",
        "    return x - y\n",
        "\n",
        "# This function multiplies two numbers\n",
        "def multiply(x, y):\n",
        "    return x * y\n",
        "\n",
        "# This function divides two numbers\n",
        "def divide(x, y):\n",
        "    return x / y\n",
        "\n",
        "\n",
        "print(\"Select operation.\")\n",
        "print(\"1.Add\")\n",
        "print(\"2.Subtract\")\n",
        "print(\"3.Multiply\")\n",
        "print(\"4.Divide\")\n",
        "\n",
        "while True:\n",
        "    # take input from the user\n",
        "    choice = input(\"Enter choice(1/2/3/4): \")\n",
        "\n",
        "    # check if choice is one of the four options\n",
        "    if choice in ('1', '2', '3', '4'):\n",
        "        try:\n",
        "            num1 = float(input(\"Enter first number: \"))\n",
        "            num2 = float(input(\"Enter second number: \"))\n",
        "        except ValueError:\n",
        "            print(\"Invalid input. Please enter a number.\")\n",
        "            continue\n",
        "\n",
        "        if choice == '1':\n",
        "            print(num1, \"+\", num2, \"=\", add(num1, num2))\n",
        "\n",
        "        elif choice == '2':\n",
        "            print(num1, \"-\", num2, \"=\", subtract(num1, num2))\n",
        "\n",
        "        elif choice == '3':\n",
        "            print(num1, \"*\", num2, \"=\", multiply(num1, num2))\n",
        "\n",
        "        elif choice == '4':\n",
        "            print(num1, \"/\", num2, \"=\", divide(num1, num2))\n",
        "\n",
        "        # check if user wants another calculation\n",
        "        # break the while loop if answer is no\n",
        "        next_calculation = input(\"Let's do next calculation? (yes/no): \")\n",
        "        if next_calculation == \"no\":\n",
        "          print(\"Thank you for using \")\n",
        "          break\n",
        "    else:\n",
        "        print(\"Invalid Input\")"
      ],
      "metadata": {
        "id": "24_fpDufSRis"
      },
      "execution_count": null,
      "outputs": []
    },
    {
      "cell_type": "code",
      "source": [
        "# Import turtle package\n",
        "import turtle\n",
        "\n",
        "# Creating a turtle object(pen)\n",
        "pen = turtle.turtle()\n",
        "\n",
        "# Defining a method to draw curve\n",
        "def curve():\n",
        "\tfor i in range(200):\n",
        "\n",
        "\t\t# Defining step by step curve motion\n",
        "\t\tpen.right(1)\n",
        "\t\tpen.forward(1)\n",
        "\n",
        "# Defining method to draw a full heart\n",
        "def heart():\n",
        "\n",
        "\t# Set the fill color to red\n",
        "\tpen.fillcolor('red')\n",
        "\n",
        "\t# Start filling the color\n",
        "\tpen.begin_fill()\n",
        "\n",
        "\t# Draw the left line\n",
        "\tpen.left(140)\n",
        "\tpen.forward(113)\n",
        "\n",
        "\t# Draw the left curve\n",
        "\tcurve()\n",
        "\tpen.left(120)\n",
        "\n",
        "\t# Draw the right curve\n",
        "\tcurve()\n",
        "\n",
        "\t# Draw the right line\n",
        "\tpen.forward(112)\n",
        "\n",
        "\t# Ending the filling of the color\n",
        "\tpen.end_fill()\n",
        "\n",
        "# Defining method to write text\n",
        "def txt():\n",
        "\n",
        "\t# Move turtle to air\n",
        "\tpen.up()\n",
        "\n",
        "\t# Move turtle to a given position\n",
        "\tpen.setpos(-68, 95)\n",
        "\n",
        "\t# Move the turtle to the ground\n",
        "\tpen.down()\n",
        "\n",
        "\t# Set the text color to lightgreen\n",
        "\tpen.color('lightgreen')\n",
        "\n",
        "\t# Write the specified text in\n",
        "\t# specified font style and size\n",
        "\tpen.write(\"GeeksForGeeks\", font=(\n",
        "\t\"Verdana\", 12, \"bold\"))\n",
        "\n",
        "\n",
        "# Draw a heart\n",
        "heart()\n",
        "\n",
        "# Write text\n",
        "txt()\n",
        "\n",
        "# To hide turtle\n",
        "pen.ht()\n"
      ],
      "metadata": {
        "id": "D0-U_bYASRnD"
      },
      "execution_count": null,
      "outputs": []
    },
    {
      "cell_type": "code",
      "source": [
        "# importing libraries\n",
        "import pygame\n",
        "import time\n",
        "import random\n",
        "\n",
        "snake_speed = 15\n",
        "\n",
        "# Window size\n",
        "window_x = 720\n",
        "window_y = 480\n",
        "\n",
        "# defining colors\n",
        "black = pygame.Color(0, 0, 0)\n",
        "white = pygame.Color(255, 255, 255)\n",
        "red = pygame.Color(255, 0, 0)\n",
        "green = pygame.Color(0, 255, 0)\n",
        "blue = pygame.Color(0, 0, 255)\n",
        "\n",
        "# Initialising pygame\n",
        "pygame.init()\n",
        "\n",
        "# Initialise game window\n",
        "pygame.display.set_caption('GeeksforGeeks Snakes')\n",
        "game_window = pygame.display.set_mode((window_x, window_y))\n",
        "\n",
        "# FPS (frames per second) controller\n",
        "fps = pygame.time.Clock()\n",
        "\n",
        "# defining snake default position\n",
        "snake_position = [100, 50]\n",
        "\n",
        "# defining first 4 blocks of snake body\n",
        "snake_body = [[100, 50],\n",
        "\t\t\t[90, 50],\n",
        "\t\t\t[80, 50],\n",
        "\t\t\t[70, 50]\n",
        "\t\t\t]\n",
        "# fruit position\n",
        "fruit_position = [random.randrange(1, (window_x//10)) * 10,\n",
        "\t\t\t\trandom.randrange(1, (window_y//10)) * 10]\n",
        "\n",
        "fruit_spawn = True\n",
        "\n",
        "# setting default snake direction towards\n",
        "# right\n",
        "direction = 'RIGHT'\n",
        "change_to = direction\n",
        "\n",
        "# initial score\n",
        "score = 0\n",
        "\n",
        "# displaying Score function\n",
        "def show_score(choice, color, font, size):\n",
        "\n",
        "\t# creating font object score_font\n",
        "\tscore_font = pygame.font.SysFont(font, size)\n",
        "\n",
        "\t# create the display surface object\n",
        "\t# score_surface\n",
        "\tscore_surface = score_font.render('Score : ' + str(score), True, color)\n",
        "\n",
        "\t# create a rectangular object for the text\n",
        "\t# surface object\n",
        "\tscore_rect = score_surface.get_rect()\n",
        "\n",
        "\t# displaying text\n",
        "\tgame_window.blit(score_surface, score_rect)\n",
        "\n",
        "# game over function\n",
        "def game_over():\n",
        "\n",
        "\t# creating font object my_font\n",
        "\tmy_font = pygame.font.SysFont('times new roman', 50)\n",
        "\n",
        "\t# creating a text surface on which text\n",
        "\t# will be drawn\n",
        "\tgame_over_surface = my_font.render(\n",
        "\t\t'Your Score is : ' + str(score), True, red)\n",
        "\n",
        "\t# create a rectangular object for the text\n",
        "\t# surface object\n",
        "\tgame_over_rect = game_over_surface.get_rect()\n",
        "\n",
        "\t# setting position of the text\n",
        "\tgame_over_rect.midtop = (window_x/2, window_y/4)\n",
        "\n",
        "\t# blit will draw the text on screen\n",
        "\tgame_window.blit(game_over_surface, game_over_rect)\n",
        "\tpygame.display.flip()\n",
        "\n",
        "\t# after 2 seconds we will quit the program\n",
        "\ttime.sleep(2)\n",
        "\n",
        "\t# deactivating pygame library\n",
        "\tpygame.quit()\n",
        "\n",
        "\t# quit the program\n",
        "\tquit()\n",
        "\n",
        "\n",
        "# Main Function\n",
        "while True:\n",
        "\n",
        "\t# handling key events\n",
        "\tfor event in pygame.event.get():\n",
        "\t\tif event.type == pygame.KEYDOWN:\n",
        "\t\t\tif event.key == pygame.K_UP:\n",
        "\t\t\t\tchange_to = 'UP'\n",
        "\t\t\tif event.key == pygame.K_DOWN:\n",
        "\t\t\t\tchange_to = 'DOWN'\n",
        "\t\t\tif event.key == pygame.K_LEFT:\n",
        "\t\t\t\tchange_to = 'LEFT'\n",
        "\t\t\tif event.key == pygame.K_RIGHT:\n",
        "\t\t\t\tchange_to = 'RIGHT'\n",
        "\n",
        "\t# If two keys pressed simultaneously\n",
        "\t# we don't want snake to move into two\n",
        "\t# directions simultaneously\n",
        "\tif change_to == 'UP' and direction != 'DOWN':\n",
        "\t\tdirection = 'UP'\n",
        "\tif change_to == 'DOWN' and direction != 'UP':\n",
        "\t\tdirection = 'DOWN'\n",
        "\tif change_to == 'LEFT' and direction != 'RIGHT':\n",
        "\t\tdirection = 'LEFT'\n",
        "\tif change_to == 'RIGHT' and direction != 'LEFT':\n",
        "\t\tdirection = 'RIGHT'\n",
        "\n",
        "\t# Moving the snake\n",
        "\tif direction == 'UP':\n",
        "\t\tsnake_position[1] -= 10\n",
        "\tif direction == 'DOWN':\n",
        "\t\tsnake_position[1] += 10\n",
        "\tif direction == 'LEFT':\n",
        "\t\tsnake_position[0] -= 10\n",
        "\tif direction == 'RIGHT':\n",
        "\t\tsnake_position[0] += 10\n",
        "\n",
        "\t# Snake body growing mechanism\n",
        "\t# if fruits and snakes collide then scores\n",
        "\t# will be incremented by 10\n",
        "\tsnake_body.insert(0, list(snake_position))\n",
        "\tif snake_position[0] == fruit_position[0] and snake_position[1] == fruit_position[1]:\n",
        "\t\tscore += 10\n",
        "\t\tfruit_spawn = False\n",
        "\telse:\n",
        "\t\tsnake_body.pop()\n",
        "\n",
        "\tif not fruit_spawn:\n",
        "\t\tfruit_position = [random.randrange(1, (window_x//10)) * 10,\n",
        "\t\t\t\t\t\trandom.randrange(1, (window_y//10)) * 10]\n",
        "\n",
        "\tfruit_spawn = True\n",
        "\tgame_window.fill(black)\n",
        "\n",
        "\tfor pos in snake_body:\n",
        "\t\tpygame.draw.rect(game_window, green,\n",
        "\t\t\t\t\t\tpygame.Rect(pos[0], pos[1], 10, 10))\n",
        "\tpygame.draw.rect(game_window, white, pygame.Rect(\n",
        "\t\tfruit_position[0], fruit_position[1], 10, 10))\n",
        "\n",
        "\t# Game Over conditions\n",
        "\tif snake_position[0] < 0 or snake_position[0] > window_x-10:\n",
        "\t\tgame_over()\n",
        "\tif snake_position[1] < 0 or snake_position[1] > window_y-10:\n",
        "\t\tgame_over()\n",
        "\n",
        "\t# Touching the snake body\n",
        "\tfor block in snake_body[1:]:\n",
        "\t\tif snake_position[0] == block[0] and snake_position[1] == block[1]:\n",
        "\t\t\tgame_over()\n",
        "\n",
        "\t# displaying score continuously\n",
        "\tshow_score(1, white, 'times new roman', 20)\n",
        "\n",
        "\t# Refresh game screen\n",
        "\tpygame.display.update()\n",
        "\n",
        "\t# Frame Per Second /Refresh Rate\n",
        "\tfps.tick(snake_speed)\n"
      ],
      "metadata": {
        "id": "Q6_zzNBeSRo_"
      },
      "execution_count": null,
      "outputs": []
    },
    {
      "cell_type": "code",
      "source": [
        "# Tic-Tac-Toe Program using\n",
        "# random number in Python\n",
        "\n",
        "# importing all necessary libraries\n",
        "import numpy as np\n",
        "import random\n",
        "from time import sleep\n",
        "\n",
        "# Creates an empty board\n",
        "\n",
        "\n",
        "def create_board():\n",
        "\treturn(np.array([[0, 0, 0],\n",
        "\t\t\t\t\t[0, 0, 0],\n",
        "\t\t\t\t\t[0, 0, 0]]))\n",
        "\n",
        "# Check for empty places on board\n",
        "\n",
        "\n",
        "def possibilities(board):\n",
        "\tl = []\n",
        "\n",
        "\tfor i in range(len(board)):\n",
        "\t\tfor j in range(len(board)):\n",
        "\n",
        "\t\t\tif board[i][j] == 0:\n",
        "\t\t\t\tl.append((i, j))\n",
        "\treturn(l)\n",
        "\n",
        "# Select a random place for the player\n",
        "\n",
        "\n",
        "def random_place(board, player):\n",
        "\tselection = possibilities(board)\n",
        "\tcurrent_loc = random.choice(selection)\n",
        "\tboard[current_loc] = player\n",
        "\treturn(board)\n",
        "\n",
        "# Checks whether the player has three\n",
        "# of their marks in a horizontal row\n",
        "\n",
        "\n",
        "def row_win(board, player):\n",
        "\tfor x in range(len(board)):\n",
        "\t\twin = True\n",
        "\n",
        "\t\tfor y in range(len(board)):\n",
        "\t\t\tif board[x, y] != player:\n",
        "\t\t\t\twin = False\n",
        "\t\t\t\tcontinue\n",
        "\n",
        "\t\tif win == True:\n",
        "\t\t\treturn(win)\n",
        "\treturn(win)\n",
        "\n",
        "# Checks whether the player has three\n",
        "# of their marks in a vertical row\n",
        "\n",
        "\n",
        "def col_win(board, player):\n",
        "\tfor x in range(len(board)):\n",
        "\t\twin = True\n",
        "\n",
        "\t\tfor y in range(len(board)):\n",
        "\t\t\tif board[y][x] != player:\n",
        "\t\t\t\twin = False\n",
        "\t\t\t\tcontinue\n",
        "\n",
        "\t\tif win == True:\n",
        "\t\t\treturn(win)\n",
        "\treturn(win)\n",
        "\n",
        "# Checks whether the player has three\n",
        "# of their marks in a diagonal row\n",
        "\n",
        "\n",
        "def diag_win(board, player):\n",
        "\twin = True\n",
        "\ty = 0\n",
        "\tfor x in range(len(board)):\n",
        "\t\tif board[x, x] != player:\n",
        "\t\t\twin = False\n",
        "\tif win:\n",
        "\t\treturn win\n",
        "\twin = True\n",
        "\tif win:\n",
        "\t\tfor x in range(len(board)):\n",
        "\t\t\ty = len(board) - 1 - x\n",
        "\t\t\tif board[x, y] != player:\n",
        "\t\t\t\twin = False\n",
        "\treturn win\n",
        "\n",
        "# Evaluates whether there is\n",
        "# a winner or a tie\n",
        "\n",
        "\n",
        "def evaluate(board):\n",
        "\twinner = 0\n",
        "\n",
        "\tfor player in [1, 2]:\n",
        "\t\tif (row_win(board, player) or\n",
        "\t\t\t\tcol_win(board, player) or\n",
        "\t\t\t\tdiag_win(board, player)):\n",
        "\n",
        "\t\t\twinner = player\n",
        "\n",
        "\tif np.all(board != 0) and winner == 0:\n",
        "\t\twinner = -1\n",
        "\treturn winner\n",
        "\n",
        "# Main function to start the game\n",
        "\n",
        "\n",
        "def play_game():\n",
        "\tboard, winner, counter = create_board(), 0, 1\n",
        "\tprint(board)\n",
        "\tsleep(2)\n",
        "\n",
        "\twhile winner == 0:\n",
        "\t\tfor player in [1, 2]:\n",
        "\t\t\tboard = random_place(board, player)\n",
        "\t\t\tprint(\"Board after \" + str(counter) + \" move\")\n",
        "\t\t\tprint(board)\n",
        "\t\t\tsleep(2)\n",
        "\t\t\tcounter += 1\n",
        "\t\t\twinner = evaluate(board)\n",
        "\t\t\tif winner != 0:\n",
        "\t\t\t\tbreak\n",
        "\treturn(winner)\n",
        "\n",
        "\n",
        "# Driver Code\n",
        "print(\"Winner is: \" + str(play_game()))\n"
      ],
      "metadata": {
        "id": "RAlMeKjtSRsH"
      },
      "execution_count": null,
      "outputs": []
    },
    {
      "cell_type": "code",
      "source": [],
      "metadata": {
        "id": "c36Uruk00C0D"
      },
      "execution_count": null,
      "outputs": []
    },
    {
      "cell_type": "code",
      "source": [
        "import seaborn as sn\n",
        "x=[10,12,30,89]\n",
        "y=[23,78,90,89]\n",
        "sn.jointplot(x,y,kind=\"kde\")\n",
        "\n"
      ],
      "metadata": {
        "id": "Emag95zb0E3y"
      },
      "execution_count": null,
      "outputs": []
    },
    {
      "cell_type": "code",
      "source": [
        "import pandas as pd\n",
        "ser=pd.Series(range(1,100,10))\n",
        "print (ser)\n",
        "ser.index=[1,1,1,1,1,1,1,1,1,1]\n",
        "print(ser)\n"
      ],
      "metadata": {
        "id": "IVNihHRt0DNP"
      },
      "execution_count": null,
      "outputs": []
    },
    {
      "cell_type": "code",
      "source": [
        "s=[1,2,3,4,5]\n",
        "e=['a','b','c','d','e']\n",
        "ee=pd.DataFrame(s,index=e,columns=[777])\n",
        "print(ee)\n",
        "print(\"----------\")\n",
        "print(ee[0:2])\n",
        "print(\"----------\")\n",
        "print(ee[-2:])\n",
        "print(\"----------\")\n",
        "print(ee[-3:])"
      ],
      "metadata": {
        "id": "V959UjZS0ryN"
      },
      "execution_count": null,
      "outputs": []
    },
    {
      "cell_type": "code",
      "source": [
        "import pandas as pd\n",
        "import numpy as np\n",
        "#it is a array or collection of similar data type\n",
        "marks=pd.Series({'arun':23,'hell':56,\"kill\":45})\n",
        "age=pd.Series({'arun':2,'hell':3,'kill':4})\n",
        "sce=pd.Series({'arun':18,'hell':34,\"kill\":8})\n",
        "df=pd.DataFrame({'marks':marks,\n",
        "                 'age':age,\n",
        "                 'class':sce})\n",
        "print(df)\n",
        "print(\"_______________\")\n",
        "print(df.isnull())\n",
        "\n"
      ],
      "metadata": {
        "id": "SmqUpTYO8UkJ"
      },
      "execution_count": null,
      "outputs": []
    },
    {
      "cell_type": "code",
      "source": [
        "import pandas as pd\n",
        "for i in range(1,200):\n",
        "  print(i)\n",
        "  if i==7:\n",
        "     break\n",
        "     i=-1\n",
        "  #for breaking"
      ],
      "metadata": {
        "id": "CXHrvxfB8UoB"
      },
      "execution_count": null,
      "outputs": []
    },
    {
      "cell_type": "code",
      "source": [
        "#odd even function\n",
        "x=eval(input(\"input word : \"))\n",
        "y=int(input(\"word 2 : \"))\n",
        "z=x*y\n",
        "print(z)\n",
        "if z%2==0:\n",
        "  print(\"even\")\n",
        "else:\n",
        "  print(\"odd\")"
      ],
      "metadata": {
        "id": "RgBWyuvQ8UrM"
      },
      "execution_count": null,
      "outputs": []
    },
    {
      "cell_type": "code",
      "source": [
        "import random\n",
        "import os\n",
        "import re\n",
        "\n",
        "\n",
        "def check_play_status():\n",
        "  valid_responses = ['yes', 'no']\n",
        "  while True:\n",
        "      try:\n",
        "          response = input('Do you wish to play again? (Yes or No): ')\n",
        "          if response.lower() not in valid_responses:\n",
        "              raise ValueError('Yes or No only')\n",
        "\n",
        "          if response.lower() == 'yes':\n",
        "              return True\n",
        "          else:\n",
        "              os.system('cls' if os.name == 'nt' else 'clear')\n",
        "              print('Thanks for playing!')\n",
        "              exit()\n",
        "\n",
        "      except ValueError as err:\n",
        "          print(err)\n",
        "\n",
        "\n",
        "def play_rps():\n",
        "   play = True\n",
        "   while play:\n",
        "       os.system('cls' if os.name == 'nt' else 'clear')\n",
        "       print('')\n",
        "       print('Rock, Paper, Scissors - Shoot!')\n",
        "\n",
        "       user_choice = input('Choose your weapon'\n",
        "                           ' [R]ock], [P]aper, or [S]cissors: ')\n",
        "\n",
        "       if not re.match(\"[SsRrPp]\", user_choice):\n",
        "           print('Please choose a letter:')\n",
        "           print('[R]ock, [P]aper, or [S]cissors')\n",
        "           continue\n",
        "\n",
        "       print(f'You chose: {user_choice}')\n",
        "\n",
        "       choices = ['R', 'P', 'S']\n",
        "       opp_choice = random.choice(choices)\n",
        "\n",
        "       print(f'I chose: {opp_choice}')\n",
        "\n",
        "       if opp_choice == user_choice.upper():\n",
        "           print('Tie!')\n",
        "           play = check_play_status()\n",
        "       elif opp_choice == 'R' and user_choice.upper() == 'S':\n",
        "           print('Rock beats scissors, I win!')\n",
        "           play = check_play_status()\n",
        "       elif opp_choice == 'S' and user_choice.upper() == 'P':\n",
        "           print('Scissors beats paper! I win!')\n",
        "           play = check_play_status()\n",
        "       elif opp_choice == 'P' and user_choice.upper() == 'R':\n",
        "           print('Paper beats rock, I win!')\n",
        "           play = check_play_status()\n",
        "       else:\n",
        "           print('You win!\\n')\n",
        "           play = check_play_status()\n",
        "\n",
        "\n",
        "if __name__ == '__main__':\n",
        "   play_rps()"
      ],
      "metadata": {
        "id": "v-4ZwWUe0r3W"
      },
      "execution_count": null,
      "outputs": []
    },
    {
      "cell_type": "code",
      "source": [
        "import random\n",
        "import os\n",
        "import re\n",
        "\n",
        "\n",
        "def check_play_status():\n",
        "  valid_responses = ['yes', 'no']\n",
        "  while True:\n",
        "      try:\n",
        "          response = input('Do you wish to play again? (Yes or No): ')\n",
        "          if response.lower() not in valid_responses:\n",
        "              raise ValueError('Yes or No only')\n",
        "\n",
        "          if response.lower() == 'yes':\n",
        "              return True\n",
        "          else:\n",
        "              os.system('cls' if os.name == 'nt' else 'clear')\n",
        "              print('Thanks for playing!')\n",
        "              exit()\n",
        "\n",
        "      except ValueError as err:\n",
        "          print(err)\n",
        "ones = (\n",
        "   'Zero', 'One', 'Two', 'Three', 'Four',\n",
        "   'Five', 'Six', 'Seven', 'Eight', 'Nine'\n",
        "   )\n",
        "\n",
        "twos = (\n",
        "   'Ten', 'Eleven', 'Twelve', 'Thirteen', 'Fourteen',\n",
        "    'Fifteen', 'Sixteen', 'Seventeen', 'Eighteen', 'Nineteen'\n",
        "   )\n",
        "\n",
        "tens = (\n",
        "   'Twenty', 'Thirty', 'Forty', 'Fifty', 'Sixty',\n",
        "    'Seventy', 'Eighty', 'Ninety', 'Hundred'\n",
        "   )\n",
        "\n",
        "suffixes = (\n",
        "   '', 'Thousand', 'Million', 'Billion'\n",
        "   )\n",
        "\n",
        "def fetch_words(number, index):\n",
        "   if number == '0': return 'Zero'\n",
        "\n",
        "   number = number.zfill(3)\n",
        "   hundreds_digit = int(number[0])\n",
        "   tens_digit = int(number[1])\n",
        "   ones_digit = int(number[2])\n",
        "\n",
        "   words = '' if number[0] == '0' else ones[hundreds_digit]\n",
        "\n",
        "   if words != '':\n",
        "       words += ' Hundred '\n",
        "\n",
        "   if tens_digit > 1:\n",
        "       words += tens[tens_digit - 2]\n",
        "       words += ' '\n",
        "       words += ones[ones_digit]\n",
        "   elif(tens_digit == 1):\n",
        "       words += twos[((tens_digit + ones_digit) % 10) - 1]\n",
        "   elif(tens_digit == 0):\n",
        "       words += ones[ones_digit]\n",
        "\n",
        "   if(words.endswith('Zero')):\n",
        "       words = words[:-len('Zero')]\n",
        "   else:\n",
        "       words += ' '\n",
        "\n",
        "   if len(words) != 0:\n",
        "       words += suffixes[index]\n",
        "\n",
        "   return words\n",
        "\n",
        "\n",
        "def convert_to_words(number):\n",
        "   length = len(str(number))\n",
        "   if length > 12:\n",
        "       return 'This program supports a maximum of 12 digit numbers.'\n",
        "\n",
        "   count = length // 3 if length % 3 == 0 else length // 3 + 1\n",
        "   copy = count\n",
        "   words = []\n",
        "\n",
        "   for i in range(length - 1, -1, -3):\n",
        "       words.append(fetch_words(\n",
        "           str(number)[0 if i - 2 < 0 else i - 2 : i + 1], copy - count))\n",
        "\n",
        "       count -= 1\n",
        "\n",
        "   final_words = ''\n",
        "   for s in reversed(words):\n",
        "       final_words += (s + ' ')\n",
        "\n",
        "   return final_words\n",
        "\n",
        "if __name__ == '__main__':\n",
        "   number = int(input('Enter any number: '))\n",
        "   print('%d in words is: %s' %(number, convert_to_words(number)))\n"
      ],
      "metadata": {
        "id": "PWB8fyrL0r7J"
      },
      "execution_count": null,
      "outputs": []
    },
    {
      "cell_type": "code",
      "source": [
        "import os\n",
        "\n",
        "\n",
        "def addition():\n",
        "   os.system('cls' if os.name == 'nt' else 'clear')\n",
        "   print('Addition')\n",
        "\n",
        "   continue_calc = 'y'\n",
        "\n",
        "   num_1 = float(input('Enter a number: '))\n",
        "   num_2 = float(input('Enter another number: '))\n",
        "   ans = num_1 + num_2\n",
        "   values_entered = 2\n",
        "   print(f'Current result: {ans}')\n",
        "\n",
        "   while continue_calc.lower() == 'y':\n",
        "       continue_calc = (input('Enter more (y/n): '))\n",
        "       while continue_calc.lower() not in ['y', 'n']:\n",
        "           print('Please enter \\'y\\' or \\'n\\'')\n",
        "           continue_calc = (input('Enter more (y/n): '))\n",
        "\n",
        "       if continue_calc.lower() == 'n':\n",
        "           break\n",
        "       num = float(input('Enter another number: '))\n",
        "       ans += num\n",
        "       print(f'Current result: {ans}')\n",
        "       values_entered += 1\n",
        "   return [ans, values_entered]\n",
        "\n",
        "\n",
        "def subtraction():\n",
        "   os.system('cls' if os.name == 'nt' else 'clear')\n",
        "   print('Subtraction')\n",
        "\n",
        "   continue_calc = 'y'\n",
        "\n",
        "   num_1 = float(input('Enter a number: '))\n",
        "   num_2 = float(input('Enter another number: '))\n",
        "   ans = num_1 - num_2\n",
        "   values_entered = 2\n",
        "   print(f'Current result: {ans}')\n",
        "\n",
        "   while continue_calc.lower() == 'y':\n",
        "       continue_calc = (input('Enter more (y/n): '))\n",
        "       while continue_calc.lower() not in ['y', 'n']:\n",
        "           print('Please enter \\'y\\' or \\'n\\'')\n",
        "           continue_calc = (input('Enter more (y/n): '))\n",
        "\n",
        "       if continue_calc.lower() == 'n':\n",
        "           break\n",
        "       num = float(input('Enter another number: '))\n",
        "       ans -= num\n",
        "       print(f'Current result: {ans}')\n",
        "       values_entered += 1\n",
        "   return [ans, values_entered]\n",
        "\n",
        "\n",
        "def multiplication():\n",
        "   os.system('cls' if os.name == 'nt' else 'clear')\n",
        "   print('Multiplication')\n",
        "\n",
        "   continue_calc = 'y'\n",
        "\n",
        "   num_1 = float(input('Enter a number: '))\n",
        "   num_2 = float(input('Enter another number: '))\n",
        "   ans = num_1 * num_2\n",
        "   values_entered = 2\n",
        "   print(f'Current result: {ans}')\n",
        "\n",
        "   while continue_calc.lower() == 'y':\n",
        "       continue_calc = (input('Enter more (y/n): '))\n",
        "       while continue_calc.lower() not in ['y', 'n']:\n",
        "           print('Please enter \\'y\\' or \\'n\\'')\n",
        "           continue_calc = (input('Enter more (y/n): '))\n",
        "\n",
        "       if continue_calc.lower() == 'n':\n",
        "           break\n",
        "       num = float(input('Enter another number: '))\n",
        "       ans *= num\n",
        "       print(f'Current result: {ans}')\n",
        "       values_entered += 1\n",
        "   return [ans, values_entered]\n",
        "\n",
        "\n",
        "def division():\n",
        "   os.system('cls' if os.name == 'nt' else 'clear')\n",
        "   print('Division')\n",
        "\n",
        "   continue_calc = 'y'\n",
        "\n",
        "   num_1 = float(input('Enter a number: '))\n",
        "   num_2 = float(input('Enter another number: '))\n",
        "   while num_2 == 0.0:\n",
        "       print('Please enter a second number > 0')\n",
        "       num_2 = float(input('Enter another number: '))\n",
        "\n",
        "   ans = num_1 / num_2\n",
        "   values_entered = 2\n",
        "   print(f'Current result: {ans}')\n",
        "\n",
        "   while continue_calc.lower() == 'y':\n",
        "       continue_calc = (input('Enter more (y/n): '))\n",
        "       while continue_calc.lower() not in ['y', 'n']:\n",
        "           print('Please enter \\'y\\' or \\'n\\'')\n",
        "           continue_calc = (input('Enter more (y/n): '))\n",
        "\n",
        "       if continue_calc.lower() == 'n':\n",
        "           break\n",
        "       num = float(input('Enter another number: '))\n",
        "       while num == 0.0:\n",
        "           print('Please enter a number > 0')\n",
        "           num = float(input('Enter another number: '))\n",
        "       ans /= num\n",
        "       print(f'Current result: {ans}')\n",
        "       values_entered += 1\n",
        "   return [ans, values_entered]\n",
        "\n",
        "\n",
        "def calculator():\n",
        "   quit = False\n",
        "   while not quit:\n",
        "       results = []\n",
        "       print('Simple Calculator in Python!')\n",
        "       print('Enter \\'a\\' for addition')\n",
        "       print('Enter \\'s\\' for substraction')\n",
        "       print('Enter \\'m\\' for multiplication')\n",
        "       print('Enter \\'d\\' for division')\n",
        "       print('Enter \\'q\\' to quit')\n",
        "\n",
        "       choice = input('Selection: ')\n",
        "\n",
        "       if choice == 'q':\n",
        "           quit = True\n",
        "           continue\n",
        "\n",
        "       if choice == 'a':\n",
        "           results = addition()\n",
        "           print('Ans = ', results[0], ' total inputs: ', results[1])\n",
        "       elif choice == 's':\n",
        "           results = subtraction()\n",
        "           print('Ans = ', results[0], ' total inputs: ', results[1])\n",
        "       elif choice == 'm':\n",
        "           results = multiplication()\n",
        "           print('Ans = ', results[0], ' total inputs: ', results[1])\n",
        "       elif choice == 'd':\n",
        "           results = division()\n",
        "           print('Ans = ', results[0], ' total inputs: ', results[1])\n",
        "       else:\n",
        "           print('Sorry, invalid character')\n",
        "\n",
        "\n",
        "if __name__ == '__main__':\n",
        "   calculator()"
      ],
      "metadata": {
        "id": "0Zu-Y9WfhAht"
      },
      "execution_count": null,
      "outputs": []
    },
    {
      "cell_type": "code",
      "source": [
        "import time\n",
        "\n",
        "\n",
        "def countdown(user_time):\n",
        "   while user_time >= 0:\n",
        "       mins, secs = divmod(user_time, 60)\n",
        "       timer = '{:02d}:{:02d}'.format(mins, secs)\n",
        "       print(timer, end='\\r')\n",
        "       time.sleep(1)\n",
        "       user_time -= 1\n",
        "   print('Lift off!')\n",
        "\n",
        "\n",
        "if __name__ == '__main__':\n",
        "   user_time = int(input(\"Enter a time in seconds: \"))\n",
        "   countdown(user_time)"
      ],
      "metadata": {
        "id": "CpM8Eb7DhAp5"
      },
      "execution_count": null,
      "outputs": []
    },
    {
      "cell_type": "code",
      "source": [
        "'''\n",
        "Pascal's Triangle\n",
        "-------------------------------------------------------------\n",
        "Number of combinations via \"n choose k\" or nCk = n! / [k! * (n-k)!]\n",
        "'''\n",
        "\n",
        "\n",
        "from math import factorial\n",
        "\n",
        "\n",
        "def pascal_triangle(n):\n",
        "   for i in range(n):\n",
        "       for j in range(n-i+2):\n",
        "           print(end=' ')\n",
        "\n",
        "       for j in range(i+1):\n",
        "\n",
        "           print(factorial(i)//(factorial(j)*factorial(i-j)), end=' ')\n",
        "\n",
        "       print()\n",
        "\n",
        "\n",
        "if __name__ == '__main__':\n",
        "   pascal_triangle(5)"
      ],
      "metadata": {
        "id": "py7zIpVuhAtK"
      },
      "execution_count": null,
      "outputs": []
    },
    {
      "cell_type": "code",
      "source": [],
      "metadata": {
        "id": "A0Kp0glbWprD"
      },
      "execution_count": null,
      "outputs": []
    },
    {
      "cell_type": "code",
      "source": [],
      "metadata": {
        "id": "ImknL48AiILa"
      },
      "execution_count": null,
      "outputs": []
    },
    {
      "cell_type": "code",
      "source": [],
      "metadata": {
        "id": "zcWuuxjQiIOc"
      },
      "execution_count": null,
      "outputs": []
    },
    {
      "cell_type": "code",
      "source": [
        "pip install ChatterBot"
      ],
      "metadata": {
        "id": "c3tjMGZ2iIRj"
      },
      "execution_count": null,
      "outputs": []
    },
    {
      "cell_type": "code",
      "source": [
        "'''\n",
        "Chat Bot\n",
        "-------------------------------------------------------------\n",
        "1) pip install ChatterBot chatterbot-corpus spacy\n",
        "2) python3 -m spacy download en_core_web_sm\n",
        "   Or... choose the language you prefer\n",
        "3) Navigate to your Python3 directory\n",
        "4) Modify Lib/site-packages/chatterbot/tagging.py\n",
        "  to properly load 'en_core_web_sm'\n",
        "'''\n",
        "\n",
        "\n",
        "from chatterbot import ChatBot\n",
        "from chatterbot.trainers import ChatterBotCorpusTrainer\n",
        "\n",
        "\n",
        "def create_chat_bot():\n",
        "   chatbot = ChatBot('Chattering Bot')\n",
        "   trainer = ChatterBotCorpusTrainer(chatbot)\n",
        "   trainer.train('chatterbot.corpus.english')\n",
        "\n",
        "   while True:\n",
        "       try:\n",
        "           bot_input = chatbot.get_response(input())\n",
        "           print(bot_input)\n",
        "\n",
        "       except (KeyboardInterrupt, EOFError, SystemExit):\n",
        "           break\n",
        "\n",
        "\n",
        "if __name__ == '__main__':\n",
        "   create_chat_bot()"
      ],
      "metadata": {
        "id": "EqTcGhhIhAv2"
      },
      "execution_count": null,
      "outputs": []
    },
    {
      "cell_type": "code",
      "source": [
        "import pandas as pd\n",
        "x=pd.DataFrame({'Year1' :{'qnt1':10,'qnt2':20,'qnt3':30},\n",
        "             'Year2':{'qnt1':20,'qnt2':30,'qnt3':40}})\n",
        "print(x)"
      ],
      "metadata": {
        "id": "fl8uFQediHNr"
      },
      "execution_count": null,
      "outputs": []
    },
    {
      "cell_type": "code",
      "source": [
        "import pandas as pd\n",
        "x=pd.DataFrame({'Year1' :{'qnt1':10,'qnt2':20,'qnt3':30},\n",
        "             'Year2':{'qnt1':20,'qnt2':30,'qnt3':40}})\n",
        "print(x)\n",
        "print(\"------------------\")\n",
        "d=x.drop(index=['qnt2'],axis=0)\n",
        "print(d)\n",
        "print('----------------------')\n",
        "dt=x.pop('Year2')#show deleted one\n",
        "print(dt)\n",
        "print('---------------------')\n"
      ],
      "metadata": {
        "id": "1szlN6AZiHQ-"
      },
      "execution_count": null,
      "outputs": []
    },
    {
      "cell_type": "code",
      "source": [
        "import pandas as pd\n",
        "import numpy as np\n",
        "#it is a array or collection of similar data type\n",
        "marks=pd.Series({'arun':23,'hell':56,\"kill\":45})\n",
        "age=pd.Series({'arun':2,'hell':3,'kill':4})\n",
        "sce=pd.Series({'arun':18,'hell':34,\"kill\":23})\n",
        "df=pd.DataFrame({'marks':marks,\n",
        "                 'age':age,\n",
        "                 'class':sce})\n",
        "print(df)\n",
        "print(\"----------\")\n",
        "print(df.head(2)) #\n",
        "print(\"----------\")\n",
        "print(df.tail(0))\n",
        "print(\"\\n\")\n",
        "print(df.loc[:'hell'])\n",
        "print(\"\\n\")\n",
        "print(df.iloc[1:2])\n",
        "print(\"-------------------\")\n",
        "print(df[marks>25])\n",
        "print(\"\\n\")\n",
        "print(df.rename(index={'kill':'anuj','hell':'rahul'}))"
      ],
      "metadata": {
        "id": "EegnS3IFD6xO"
      },
      "execution_count": null,
      "outputs": []
    },
    {
      "cell_type": "code",
      "source": [
        "print(\"---Select An Operation----\")\n",
        "print(\"1. ADD \")\n",
        "print(\"2. SUB \")\n",
        "print(\"3. MUL \")\n",
        "print(\"4. DIV \")\n",
        "print(\"5. POW \")\n",
        "print(\"------------Your s election : :: --------------\")\n",
        "OPERATION = input()\n",
        "print(\"--------------------Prcessing--------------------------\")\n",
        "if OPERATION == \"1\":\n",
        "  num1=input(\"no. 1 : \")\n",
        "  num2=input(\"no. 2 : \")\n",
        "  sum=num1+num2\n",
        "  print(\"sum of no is : \", sum)\n",
        "\n",
        "if OPERATION == \"2\":\n",
        "\n",
        "\n",
        "\n"
      ],
      "metadata": {
        "id": "zIVLQfMSD6tS"
      },
      "execution_count": null,
      "outputs": []
    },
    {
      "cell_type": "code",
      "source": [
        "print(\"---Select An Operation----\")\n",
        "print(\"1. ADD \")\n",
        "print(\"2. SUB \")\n",
        "print(\"3. MUL \")\n",
        "print(\"4. DIV \")\n",
        "print(\"5. POW \")\n",
        "print(\"------------Your s election : :: --------------\")\n",
        "OPERATION = input()\n",
        "print(\"--------------------Prcessing--------------------------\")\n",
        "if OPERATION == \"1\":\n",
        "  num1=input(\"no. 1 : \")\n",
        "  num2=input(\"no. 2 : \")\n",
        "  sum=num1+num2\n",
        "  print(\"sum of no is : \", sum)\n",
        "\n",
        "elif OPERATION == \"2\":\n",
        "   num1=input(\"no. 1 : \")\n",
        "   num2=input(\"no. 2 : \")\n",
        "   SUB=num1-num2\n",
        "   print(\"sum of no is : \", SUB)\n",
        "\n",
        "elif OPERATION == \"3\":\n",
        "   num1=input(\"no. 1 : \")\n",
        "   num2=input(\"no. 2 : \")\n",
        "   mul=num1*num2\n",
        "   print(\"sum of no is : \", mul)\n",
        "\n",
        "elif OPERATION == \"4\":\n",
        "   num1=input(\"no. 1 : \")\n",
        "   num2=input(\"no. 2 : \")\n",
        "   div=num1/num2\n",
        "   print(\"sum of no is : \", div)\n",
        "\n",
        "elif OPERATION == \"5\":\n",
        "   num1=input(\"no. 1 : \")\n",
        "   num2=input(\"no. 2 : \")\n",
        "   pow=num1**num2\n",
        "   print(\"sum of no is : \",pow )\n",
        "\n",
        "else :\n",
        "  print(\"invalid\")\n",
        "\n"
      ],
      "metadata": {
        "id": "u-eTsEtXTfrK"
      },
      "execution_count": null,
      "outputs": []
    },
    {
      "cell_type": "code",
      "source": [
        "# Python program to illustrate\n",
        "# Plotting categorical scatter\n",
        "# plots with Seaborn\n",
        "\n",
        "# importing the required module\n",
        "import matplotlib.pyplot as plt\n",
        "import seaborn as sns\n",
        "\n",
        "# x axis values\n",
        "x =['sun', 'mon', 'fri', 'sat', 'tue', 'wed', 'thu']\n",
        "\n",
        "# y axis values\n",
        "y =[5, 6.7, 4, 6, 2, 4.9, 1.8]\n",
        "\n",
        "# plotting strip plot with seaborn\n",
        "ax = sns.stripplot(x, y);\n",
        "\n",
        "# giving labels to x-axis and y-axis\n",
        "ax.set(xlabel ='Days', ylabel ='Amount_spend')\n",
        "\n",
        "# giving title to the plot\n",
        "plt.title('My first graph');\n",
        "\n",
        "# function to show plot\n",
        "plt.show()\n"
      ],
      "metadata": {
        "id": "gCUBrqQQD6nS"
      },
      "execution_count": null,
      "outputs": []
    },
    {
      "cell_type": "code",
      "source": [
        "# Python program to illustrate\n",
        "# plotting using Swarmplot\n",
        "\n",
        "# importing the required module\n",
        "import matplotlib.pyplot as plt\n",
        "import seaborn as sns\n",
        "\n",
        "# use to set style of background of plot\n",
        "sns.set(style=\"whitegrid\")\n",
        "\n",
        "# loading data-set\n",
        "iris = sns.load_dataset('iris')\n",
        "\n",
        "# plotting strip plot with seaborn\n",
        "# deciding the attributes of dataset on\n",
        "# which plot should be made\n",
        "ax = sns.swarmplot(x='species', y='sepal_length', data=iris)\n",
        "\n",
        "# giving title to the plot\n",
        "plt.title('Graph')\n",
        "\n",
        "# function to show plot\n",
        "plt.show()\n"
      ],
      "metadata": {
        "id": "zgGHHTF1D6ku"
      },
      "execution_count": null,
      "outputs": []
    },
    {
      "cell_type": "code",
      "source": [
        "import pandas as pd\n",
        "import matplotlib.pyplot as plt\n",
        "x=[1,2,3,4,4,5,6,7,8,8,9,55]\n",
        "y=[2,3,4,5,3,4,5,6,7,8,9,43]\n",
        "plt.hexbin(x,y)\n",
        "plt.colorbar()\n",
        "plt.show()"
      ],
      "metadata": {
        "id": "3Ti7qgf2D6iK"
      },
      "execution_count": null,
      "outputs": []
    },
    {
      "cell_type": "code",
      "source": [
        "import matplotlib.pyplot as plt\n",
        "import pandas as pd\n",
        "a=pd.DataFrame([1,1,2,3,4],[2,4,6,7,9])\n",
        "plt.plot(a)\n",
        "plt.xlable(\"week\")\n",
        "plt.ylable(\"sales\")\n",
        "\n",
        "plt.show()"
      ],
      "metadata": {
        "id": "bZ3d17yKD6fA"
      },
      "execution_count": null,
      "outputs": []
    },
    {
      "cell_type": "code",
      "source": [
        "import seaborn as sns\n",
        "\n",
        "# Load the data\n",
        "tips = sns.load_dataset(\"tips\")\n",
        "\n",
        "# Create a scatter plot\n",
        "sns.scatterplot(x=\"total_bill\", y=\"tip\", data=tips)\n",
        "\n",
        "# Customize the plot\n",
        "sns.set_title(\"Scatter plot of total bill vs. tip\")\n",
        "sns.set_xlabel(\"Total bill\")\n",
        "sns.set_ylabel(\"Tip\")\n",
        "\n",
        "# Show the plot\n",
        "plt.show()"
      ],
      "metadata": {
        "id": "IosRd1ftD6Zn"
      },
      "execution_count": null,
      "outputs": []
    },
    {
      "cell_type": "code",
      "source": [
        "pip install matrix\n",
        "print(\"matrix\")"
      ],
      "metadata": {
        "id": "f89JrDhiD6T6"
      },
      "execution_count": null,
      "outputs": []
    },
    {
      "cell_type": "code",
      "source": [
        "pip install chatbot"
      ],
      "metadata": {
        "id": "F-_P_qH0hAyO"
      },
      "execution_count": null,
      "outputs": []
    },
    {
      "cell_type": "code",
      "source": [
        "import os\n",
        "import time\n",
        "import random\n",
        "\n",
        "os.system('color 0a')\n",
        "\n",
        "nums = [1,0]\n",
        "tm = 0\n",
        "\n",
        "while tm < 30:\n",
        "    print(random.randrange(1,5)* \" \",\n",
        "    random.choice(nums),random.randrange(1,5)* \" \",\n",
        "    random.choice(nums),random.randrange(1,5)* \" \",\n",
        "    random.choice(nums),random.randrange(1,5)* \" \",\n",
        "    random.choice(nums),random.randrange(1,5)* \" \",\n",
        "    random.choice(nums),random.randrange(1,5)* \" \",\n",
        "    random.choice(nums),random.randrange(1,5)* \" \",\n",
        "    random.choice(nums),random.randrange(1,5)* \" \",\n",
        "    random.choice(nums),random.randrange(1,5)* \" \",\n",
        "    random.choice(nums),random.randrange(1,5)* \" \",\n",
        "    random.choice(nums),random.randrange(1,5)* \" \",\n",
        "    random.choice(nums),random.randrange(1,5)* \" \",\n",
        "    random.choice(nums),random.randrange(1,5)* \" \",\n",
        "    random.choice(nums),random.randrange(1,5)* \" \",\n",
        "    random.choice(nums),random.randrange(1,5)* \" \",\n",
        "    random.choice(nums),random.randrange(1,5)* \" \",\n",
        "    random.choice(nums),random.randrange(1,5)* \" \",\n",
        "    random.choice(nums),random.randrange(1,5)* \" \",\n",
        "    random.choice(nums),random.randrange(1,5)* \" \",\n",
        "    random.choice(nums),random.randrange(1,5)* \" \",\n",
        "    random.choice(nums),random.randrange(1,5)* \" \",\n",
        "    random.choice(nums),random.randrange(1,5)* \" \",\n",
        "    random.choice(nums),random.randrange(1,5)* \" \",\n",
        "    random.choice(nums),random.randrange(1,5)* \" \",\n",
        "    random.choice(nums),random.randrange(1,5)* \" \",\n",
        "    random.choice(nums),random.randrange(1,5)* \" \",\n",
        "    random.choice(nums),random.randrange(1,5)* \" \",\n",
        "    random.choice(nums),random.randrange(1,5)* \" \",\n",
        "    random.choice(nums),random.randrange(1,5)* \" \",\n",
        "    random.choice(nums),random.randrange(1,5)* \" \",\n",
        "    random.choice(nums),random.randrange(1,5)* \" \",\n",
        "    random.choice(nums),random.randrange(1,5)* \" \",\n",
        "    random.choice(nums),random.randrange(1,5)* \" \",\n",
        "    random.choice(nums),random.randrange(1,5)* \" \",\n",
        "    random.choice(nums),random.randrange(1,5)* \" \",\n",
        "    random.choice(nums),random.randrange(1,5)* \" \",\n",
        "    random.choice(nums),random.randrange(1,5)* \" \",\n",
        "    random.choice(nums),random.randrange(1,5)* \" \",\n",
        "    random.choice(nums),)\n",
        "\n",
        "    tm = tm + 0.1\n",
        "\n",
        "    time.sleep(0.1)"
      ],
      "metadata": {
        "id": "naQWTBSxfhGS"
      },
      "execution_count": null,
      "outputs": []
    },
    {
      "cell_type": "code",
      "source": [
        "pip install turtle"
      ],
      "metadata": {
        "id": "5DKS5EdPhGyd"
      },
      "execution_count": null,
      "outputs": []
    },
    {
      "cell_type": "code",
      "source": [
        "import turtle\n",
        "\n",
        "turtle.Screen().bgcolor(\"green\")\n",
        "\n",
        "t = turtle.Turtle()\n",
        "t.pensize(10)\n",
        "\n",
        "def go(x,y):\n",
        "    t.penup()\n",
        "    t.goto(x,y)\n",
        "    t.pendown()\n",
        "\n",
        "go(0,-150)\n",
        "\n",
        "# Brown Hair\n",
        "t.fillcolor(\"#8a4528\")\n",
        "t.seth(60)\n",
        "t.begin_fill()\n",
        "t.circle(-280,40)\n",
        "t.circle(200,180)\n",
        "t.seth(158)\n",
        "t.circle(200,180)\n",
        "t.circle(-280,40)\n",
        "t.end_fill()\n",
        "\n",
        "# Left Ears\n",
        "t.pensize(7)\n",
        "go(-125,165)\n",
        "t.fillcolor(\"#cfac13\")\n",
        "t.seth(0)\n",
        "t.begin_fill()\n",
        "t.circle(45)\n",
        "t.end_fill()\n",
        "\n",
        "go(-125,185)\n",
        "t.fillcolor(\"black\")\n",
        "t.seth(0)\n",
        "t.begin_fill()\n",
        "t.circle(25)\n",
        "t.end_fill()\n",
        "\n",
        "# Right Ear\n",
        "go(125,165)\n",
        "t.fillcolor(\"#cfac13\")\n",
        "t.seth(0)\n",
        "t.begin_fill()\n",
        "t.circle(45)\n",
        "t.end_fill()\n",
        "\n",
        "go(125,185)\n",
        "t.fillcolor(\"black\")\n",
        "t.seth(0)\n",
        "t.begin_fill()\n",
        "t.circle(25)\n",
        "t.end_fill()\n",
        "\n",
        "# Head\n",
        "go(0,20)\n",
        "t.fillcolor(\"#cfac13\")\n",
        "t.seth(0)\n",
        "t.begin_fill()\n",
        "t.circle(130)\n",
        "t.end_fill()\n",
        "\n",
        "# Left Eyes\n",
        "t.pensize(1)\n",
        "go(-50,160)\n",
        "t.seth(-65)\n",
        "t.fillcolor(\"black\")\n",
        "t.begin_fill()\n",
        "t.circle(12,130)\n",
        "t.circle(30,50)\n",
        "t.circle(12,130)\n",
        "t.circle(30,50)\n",
        "t.end_fill()\n",
        "\n",
        "t.seth(0)\n",
        "t.pencolor(\"white\")\n",
        "t.fillcolor(\"white\")\n",
        "go(-37,170)\n",
        "t.begin_fill()\n",
        "t.circle(7)\n",
        "t.end_fill()\n",
        "\n",
        "# Right Eyes\n",
        "t.pensize(1)\n",
        "go(25,160)\n",
        "t.seth(-65)\n",
        "t.pencolor(\"black\")\n",
        "t.fillcolor(\"black\")\n",
        "t.begin_fill()\n",
        "t.circle(12,130)\n",
        "t.circle(30,50)\n",
        "t.circle(12,130)\n",
        "t.circle(30,50)\n",
        "t.end_fill()\n",
        "\n",
        "t.seth(0)\n",
        "t.pencolor(\"white\")\n",
        "t.fillcolor(\"white\")\n",
        "go(37,170)\n",
        "t.begin_fill()\n",
        "t.circle(7)\n",
        "t.end_fill()\n",
        "\n",
        "# Mouth\n",
        "go(0,-10)\n",
        "t.pensize(6)\n",
        "t.pencolor(\"black\")\n",
        "t.fillcolor(\"#edd6ce\")\n",
        "t.begin_fill()\n",
        "t.circle(80,60)\n",
        "t.circle(50,60)\n",
        "t.circle(80,120)\n",
        "t.circle(50,60)\n",
        "t.circle(80,60)\n",
        "t.end_fill()\n",
        "\n",
        "# Nose\n",
        "go(-5,130)\n",
        "t.fillcolor(\"black\")\n",
        "t.begin_fill()\n",
        "t.forward(20)\n",
        "t.circle(-10,130)\n",
        "t.circle(-40,30)\n",
        "t.circle(-20,40)\n",
        "t.circle(-40,30)\n",
        "t.circle(-10,130)\n",
        "t.forward(20)\n",
        "t.end_fill()\n",
        "\n",
        "go(0,100)\n",
        "t.seth(-90)\n",
        "t.pensize(7)\n",
        "t.forward(50)\n",
        "t.seth(0)\n",
        "t.pensize(12)\n",
        "t.circle(30,50)\n",
        "t.circle(30,-100)\n",
        "\n",
        "# Moustache\n",
        "t.pensize(6)\n",
        "t.seth(20)\n",
        "go(40,70)\n",
        "t.forward(110)\n",
        "\n",
        "t.seth(0)\n",
        "go(40,50)\n",
        "t.forward(120)\n",
        "\n",
        "t.seth(-20)\n",
        "go(40,30)\n",
        "t.forward(110)\n",
        "\n",
        "t.seth(160)\n",
        "go(-40,70)\n",
        "t.forward(110)\n",
        "\n",
        "t.seth(180)\n",
        "go(-40,50)\n",
        "t.forward(120)\n",
        "\n",
        "t.seth(-160)\n",
        "go(-40,30)\n",
        "t.forward(110)\n",
        "\n",
        "t.hideturtle()\n",
        "\n",
        "turtle.done()"
      ],
      "metadata": {
        "id": "7XtSWIdlhAW1"
      },
      "execution_count": null,
      "outputs": []
    },
    {
      "cell_type": "code",
      "source": [
        "import random\n",
        "MatrixNumber = random.randint(0, 1)\n",
        "Matrixone=random.randint(0,2)\n",
        "while True:\n",
        "  print(MatrixNumber,Matrixone)\n",
        "  print(Matrixone,Matrixone,Matrixone,Matrixone,Matrixone,Matrixone,Matrixone,Matrixone)"
      ],
      "metadata": {
        "id": "xQBiww7-e7Xf"
      },
      "execution_count": null,
      "outputs": []
    },
    {
      "cell_type": "code",
      "source": [
        "#Guessing game\n",
        "import random\n",
        "import pandas as pd\n",
        "a=random.randint(1,50)\n",
        "i=1\n",
        "while True:\n",
        "  b=int(input(\"Enter a guess! >> \"))\n",
        "  if(a>b):\n",
        "    print(\"you guess is less\")\n",
        "    i+=1\n",
        "  elif(b>a):\n",
        "    print(\"you gyess is higher\")\n",
        "    i+=1\n",
        "  else:\n",
        "    print(\"Great Workk !!\")\n",
        "    break\n",
        "\n",
        "print(\"YOUR attemts\",i,\"Well Done\")"
      ],
      "metadata": {
        "id": "2tflQd7IYMnj"
      },
      "execution_count": null,
      "outputs": []
    },
    {
      "cell_type": "markdown",
      "source": [
        "# Object oriented **programing**"
      ],
      "metadata": {
        "id": "7T3ISo7Fm85_"
      }
    },
    {
      "cell_type": "code",
      "source": [
        "#Object oriented Programming\n",
        "'''class define '''\n",
        "class person:\n",
        "  name='hello'\n",
        "  age=18\n",
        "  gender='male'\n",
        "\n",
        "'''object define'''\n",
        "s1= person()\n",
        "print(s1)\n",
        "print(s1.name,s1.gender)\n",
        "\n",
        "\n"
      ],
      "metadata": {
        "id": "EJBqzAAtbNm6"
      },
      "execution_count": null,
      "outputs": []
    },
    {
      "cell_type": "code",
      "source": [
        "#class with constructor\n",
        "class person:\n",
        "  # default constructor\n",
        "  def __init__(self):\n",
        "    pass\n",
        "\n",
        "  # perematrized constructor\n",
        "  def __init__(self,name,age,gender):\n",
        "    self.name=name\n",
        "    self.age=age\n",
        "    self.gender=gender\n",
        "\n",
        "#object define\n",
        "p1 =person(\"Henam\",18,\"male\")\n",
        "print(p1.name,p1.age,p1.gender)\n",
        "print(\"The name of the person we got is \\033[32m\",p1.name,\"\\033[37mHe is \\033[93m \",p1.age,\"\\033[37m years old and he is a \\033[34m\",p1.gender)"
      ],
      "metadata": {
        "colab": {
          "base_uri": "https://localhost:8080/"
        },
        "id": "KJuuyN48gmRY",
        "outputId": "697210a3-1d6f-4844-950d-777ef604161c"
      },
      "execution_count": null,
      "outputs": [
        {
          "output_type": "stream",
          "name": "stdout",
          "text": [
            "Henam 18 male\n",
            "The name of the person we got is \u001b[32m Henam \u001b[37mHe is \u001b[93m  18 \u001b[37m years old and he is a \u001b[34m male\n"
          ]
        }
      ]
    },
    {
      "cell_type": "code",
      "source": [
        "class student:\n",
        "  def __init__(self,fullname,engmarks,mathsmarks,evsmarks):\n",
        "    self.name=fullname\n",
        "    self.eng=engmarks\n",
        "    self.maths=mathsmarks\n",
        "    self.evs=evsmarks\n",
        "    #method\n",
        "  def avg(self):\n",
        "    print(\"Your average marks : \")\n",
        "    return (self.eng+self.maths+self.evs)/3\n",
        "\n",
        "\n",
        "    #static method\n",
        "  @staticmethod #decorator\n",
        "  def greet():\n",
        "      print(\"Hello\")\n",
        "\n",
        "s1 = student(\"Tony hel\",100,60,70)\n",
        "s1.avg()"
      ],
      "metadata": {
        "colab": {
          "base_uri": "https://localhost:8080/"
        },
        "id": "SbDJqQ5gTeYE",
        "outputId": "51a12df3-0129-4b35-c3bb-afb7e513c3f0"
      },
      "execution_count": null,
      "outputs": [
        {
          "output_type": "stream",
          "name": "stdout",
          "text": [
            "Your average marks : \n"
          ]
        },
        {
          "output_type": "execute_result",
          "data": {
            "text/plain": [
              "76.66666666666667"
            ]
          },
          "metadata": {},
          "execution_count": 4
        }
      ]
    },
    {
      "cell_type": "code",
      "source": [
        "class car:\n",
        "  def __init__(self):\n",
        "    self.acc=False\n",
        "    self.brk=False\n",
        "    self.clutch=False\n",
        "#abstraction,\n",
        "  def start(self):\n",
        "    self.acc=True\n",
        "    self.clutch=True\n",
        "    print(\"Car is ready to go\")\n",
        "\n",
        "c1=car()\n",
        "c1.start()\n",
        "\n",
        "\n"
      ],
      "metadata": {
        "colab": {
          "base_uri": "https://localhost:8080/"
        },
        "id": "VcbW1mrnTeVW",
        "outputId": "58ae53c0-98d9-4f2a-eb6c-49b1a8c25065"
      },
      "execution_count": null,
      "outputs": [
        {
          "output_type": "stream",
          "name": "stdout",
          "text": [
            "Car is ready to go\n"
          ]
        }
      ]
    },
    {
      "cell_type": "code",
      "source": [
        "class account:\n",
        "  def __init__(self,balance,accno):\n",
        "    self.bal=balance\n",
        "    self.accno=accno\n",
        "\n",
        "\n",
        "    #debit method\n",
        "  def debit(self,amount):\n",
        "      self.balance -= amount\n",
        "      print(\"Rs.\",amount,\"was debit\")\n",
        "      print(\"total balance: \", self.allbal())\n",
        "\n",
        "\n",
        "    #credit method\n",
        "  def credit(self,amount):\n",
        "      self.balance += amount\n",
        "      print(\"Rs.\",amount,\"was credit\")\n",
        "      print(\"total balance: \", self.allbal())\n",
        "\n",
        "      #balance method\n",
        "  def allbal(self):\n",
        "    return self.balance\n",
        "\n",
        "\n",
        "\n",
        "acc1=account(10000,126666634)\n",
        "acc1.debit(1000)\n",
        "acc1.credit(2000)"
      ],
      "metadata": {
        "collapsed": true,
        "id": "X7xnNqrwTeR4"
      },
      "execution_count": null,
      "outputs": []
    },
    {
      "source": [
        "class account:\n",
        "  def __init__(self,balance,accno):\n",
        "    self.balance = balance # Initialize the balance attribute\n",
        "    self.accno=accno\n",
        "\n",
        "\n",
        "    #debit method\n",
        "  def debit(self,amount):\n",
        "    if self.balance >= amount:\n",
        "      print(\"insuffucient balance \")\n",
        "      self.balance -= amount\n",
        "      print(\"Rs.\",amount,\"was debit\")\n",
        "      print(\"total balance: \", self.allbal())\n",
        "\n",
        "\n",
        "    #credit method\n",
        "  def credit(self,amount):\n",
        "      self.balance += amount\n",
        "      print(\"Rs.\",amount,\"was credit\")\n",
        "      print(\"total balance: \", self.allbal())\n",
        "\n",
        "      #balance method\n",
        "  def allbal(self):\n",
        "    return self.balance\n",
        "\n",
        "\n",
        "\n",
        "acc1=account(10000,126666634)\n",
        "acc1.debit(1000)\n",
        "acc1.credit(2000)\n",
        "\n",
        "ano2=int(input(\"Enter your account number: \"))\n",
        "balan=int(input(\"Enter your balance: \"))\n",
        "acc2=account(balan,ano2)\n",
        "deb=int(input(\"Enter the amount you want to debit: \"))\n",
        "acc2.debit(deb)\n",
        "cre=int(input(\"Enter the amount you want to credit: \"))\n",
        "acc2.credit(cre)\n",
        "\n",
        "\n",
        "\n",
        "print(acc1,acc2)\n"
      ],
      "cell_type": "code",
      "metadata": {
        "colab": {
          "base_uri": "https://localhost:8080/"
        },
        "id": "t5t2-vz7dvNh",
        "outputId": "f54a6176-ecef-42f1-8fdf-3ed2044a998a"
      },
      "execution_count": null,
      "outputs": [
        {
          "output_type": "stream",
          "name": "stdout",
          "text": [
            "insuffucient balance \n",
            "Rs. 1000 was debit\n",
            "total balance:  9000\n",
            "Rs. 2000 was credit\n",
            "total balance:  11000\n",
            "Enter your account number: 234\n",
            "Enter your balance: 56\n",
            "Enter the amount you want to debit: 66\n",
            "Enter the amount you want to credit: 4\n",
            "Rs. 4 was credit\n",
            "total balance:  60\n",
            "<__main__.account object at 0x78132e243be0> <__main__.account object at 0x7813625715d0>\n"
          ]
        }
      ]
    },
    {
      "cell_type": "code",
      "source": [
        "## Single Inheritance\n",
        "\n",
        "#base class\n",
        "class car:\n",
        "  @staticmethod\n",
        "  def start():\n",
        "    print(\"ready to go\")\n",
        "  @staticmethod\n",
        "  def stop():\n",
        "    print(\" Stop car\")\n",
        "#derived class\n",
        "class toyotacar(car):\n",
        "  def __init__(self,name):\n",
        "    self.name=name\n",
        "\n",
        "c1=toyotacar(\"Supra\")\n",
        "print(c1.name)\n",
        "c1.start()\n",
        "c1.stop()"
      ],
      "metadata": {
        "colab": {
          "base_uri": "https://localhost:8080/"
        },
        "id": "eBMbRxN6TeHa",
        "outputId": "fbe15fd8-0b95-4921-a54b-b80082c19856"
      },
      "execution_count": null,
      "outputs": [
        {
          "output_type": "stream",
          "name": "stdout",
          "text": [
            "Supra\n",
            "ready to go\n",
            " Stop car\n"
          ]
        }
      ]
    },
    {
      "cell_type": "code",
      "source": [
        "## Multi-level Inheritance\n",
        "\n",
        "#base class\n",
        "class car:\n",
        "  @staticmethod\n",
        "  def start():\n",
        "    print(\"ready to go\")\n",
        "  @staticmethod\n",
        "  def stop():\n",
        "    print(\" Stop car\")\n",
        "#derived class\n",
        "class toyotacar(car):\n",
        "  def __init__(self,brand):\n",
        "    self.brand=brand\n",
        "\n",
        "class supra(toyotacar):\n",
        "  def __init__(self,type):\n",
        "    self.type=type\n",
        "\n",
        "car1=supra(\"Sedan\")\n",
        "print(car1.type)\n",
        "car1.start()\n",
        "car1.stop()"
      ],
      "metadata": {
        "colab": {
          "base_uri": "https://localhost:8080/"
        },
        "id": "FpPeDqRXfBIE",
        "outputId": "23d47b94-8b96-4bb7-dca4-996bea1bfa62"
      },
      "execution_count": null,
      "outputs": [
        {
          "output_type": "stream",
          "name": "stdout",
          "text": [
            "Sedan\n",
            "ready to go\n",
            " Stop car\n"
          ]
        }
      ]
    },
    {
      "cell_type": "code",
      "source": [
        "## multiple inheritance\n",
        "\n",
        "class a:\n",
        "  vara=\"class a it is \"\n",
        "class b:\n",
        "  varb=\"class b it is\"\n",
        "class c(a,b):\n",
        "  varc=\"class c it is\"\n",
        "\n",
        "obj=c()\n",
        "print(obj.vara)\n",
        "print(obj.varb)\n",
        "print(obj.varc)\n"
      ],
      "metadata": {
        "colab": {
          "base_uri": "https://localhost:8080/"
        },
        "id": "zh4vcL9lfBFE",
        "outputId": "5cd27f99-dd35-4cc8-d4de-d06c8f4e5682"
      },
      "execution_count": null,
      "outputs": [
        {
          "output_type": "stream",
          "name": "stdout",
          "text": [
            "class a it is \n",
            "class b it is\n",
            "class c it is\n"
          ]
        }
      ]
    },
    {
      "cell_type": "code",
      "source": [
        "\n",
        "#base class\n",
        "class car:\n",
        "  def __init__(self,type):\n",
        "    self.type=type\n",
        "\n",
        "\n",
        "  @staticmethod\n",
        "  def start():\n",
        "    print(\"ready to go\")\n",
        "  @staticmethod\n",
        "  def stop():\n",
        "    print(\" Stop car\")\n",
        "#derived class\n",
        "class toyotacar(car):\n",
        "  def __init__(self,name,type):\n",
        "    self.name=name\n",
        "    super().__init__(type)\n",
        "\n",
        "c1=toyotacar(\"Supra\",\"desial\")\n",
        "print(c1.name)\n",
        "print(c1.type)\n",
        "c1.start()\n",
        "c1.stop()\n",
        "\n"
      ],
      "metadata": {
        "colab": {
          "base_uri": "https://localhost:8080/"
        },
        "id": "r4e1iMjgfBB-",
        "outputId": "3a7b99a4-a150-40a9-8493-9b9d75688e1d"
      },
      "execution_count": null,
      "outputs": [
        {
          "output_type": "stream",
          "name": "stdout",
          "text": [
            "Supra\n",
            "desial\n",
            "ready to go\n",
            " Stop car\n"
          ]
        }
      ]
    },
    {
      "cell_type": "code",
      "source": [
        "class person:\n",
        "    name=\"anonymous\"\n",
        "\n",
        "    # def changename(self,name):\n",
        "    #   self.name=name\n",
        "    #  # person.name=name\n",
        "\n",
        "\n",
        "    @classmethod\n",
        "    def changename(cls,name):\n",
        "      cls.name=name\n",
        "\n",
        "p1=person()\n",
        "#it is creating new for this\n",
        "p1.changename(\"Henam\")\n",
        "print(p1.name)\n",
        "print(person.name)\n"
      ],
      "metadata": {
        "colab": {
          "base_uri": "https://localhost:8080/"
        },
        "id": "FluSbVJxfA35",
        "outputId": "8b3e19f2-a3db-40ef-b778-40e285fa49b0"
      },
      "execution_count": null,
      "outputs": [
        {
          "output_type": "stream",
          "name": "stdout",
          "text": [
            "Henam\n",
            "Henam\n"
          ]
        }
      ]
    },
    {
      "cell_type": "code",
      "source": [],
      "metadata": {
        "id": "iSOECQhxsR-H"
      },
      "execution_count": null,
      "outputs": []
    },
    {
      "cell_type": "code",
      "source": [],
      "metadata": {
        "id": "Xq4T_X48sR7L"
      },
      "execution_count": null,
      "outputs": []
    },
    {
      "cell_type": "code",
      "source": [],
      "metadata": {
        "id": "GHIy918EsR4N"
      },
      "execution_count": null,
      "outputs": []
    },
    {
      "cell_type": "markdown",
      "source": [
        "# Graph using Seaborn\n"
      ],
      "metadata": {
        "id": "kN9mqW73n-LU"
      }
    },
    {
      "cell_type": "code",
      "source": [
        "pip install seaborn"
      ],
      "metadata": {
        "colab": {
          "base_uri": "https://localhost:8080/"
        },
        "id": "26sPAGQsoIsl",
        "outputId": "35d5e308-d09e-49d4-eeea-c8b2da088207"
      },
      "execution_count": null,
      "outputs": [
        {
          "output_type": "stream",
          "name": "stdout",
          "text": [
            "Requirement already satisfied: seaborn in /usr/local/lib/python3.10/dist-packages (0.13.1)\n",
            "Requirement already satisfied: numpy!=1.24.0,>=1.20 in /usr/local/lib/python3.10/dist-packages (from seaborn) (1.25.2)\n",
            "Requirement already satisfied: pandas>=1.2 in /usr/local/lib/python3.10/dist-packages (from seaborn) (2.0.3)\n",
            "Requirement already satisfied: matplotlib!=3.6.1,>=3.4 in /usr/local/lib/python3.10/dist-packages (from seaborn) (3.7.1)\n",
            "Requirement already satisfied: contourpy>=1.0.1 in /usr/local/lib/python3.10/dist-packages (from matplotlib!=3.6.1,>=3.4->seaborn) (1.2.1)\n",
            "Requirement already satisfied: cycler>=0.10 in /usr/local/lib/python3.10/dist-packages (from matplotlib!=3.6.1,>=3.4->seaborn) (0.12.1)\n",
            "Requirement already satisfied: fonttools>=4.22.0 in /usr/local/lib/python3.10/dist-packages (from matplotlib!=3.6.1,>=3.4->seaborn) (4.51.0)\n",
            "Requirement already satisfied: kiwisolver>=1.0.1 in /usr/local/lib/python3.10/dist-packages (from matplotlib!=3.6.1,>=3.4->seaborn) (1.4.5)\n",
            "Requirement already satisfied: packaging>=20.0 in /usr/local/lib/python3.10/dist-packages (from matplotlib!=3.6.1,>=3.4->seaborn) (24.0)\n",
            "Requirement already satisfied: pillow>=6.2.0 in /usr/local/lib/python3.10/dist-packages (from matplotlib!=3.6.1,>=3.4->seaborn) (9.4.0)\n",
            "Requirement already satisfied: pyparsing>=2.3.1 in /usr/local/lib/python3.10/dist-packages (from matplotlib!=3.6.1,>=3.4->seaborn) (3.1.2)\n",
            "Requirement already satisfied: python-dateutil>=2.7 in /usr/local/lib/python3.10/dist-packages (from matplotlib!=3.6.1,>=3.4->seaborn) (2.8.2)\n",
            "Requirement already satisfied: pytz>=2020.1 in /usr/local/lib/python3.10/dist-packages (from pandas>=1.2->seaborn) (2023.4)\n",
            "Requirement already satisfied: tzdata>=2022.1 in /usr/local/lib/python3.10/dist-packages (from pandas>=1.2->seaborn) (2024.1)\n",
            "Requirement already satisfied: six>=1.5 in /usr/local/lib/python3.10/dist-packages (from python-dateutil>=2.7->matplotlib!=3.6.1,>=3.4->seaborn) (1.16.0)\n"
          ]
        }
      ]
    },
    {
      "cell_type": "code",
      "source": [
        "import seaborn as sns\n",
        "x=[11,22,3,4,44,54,6,7,8,8,9,55]\n",
        "y=[2,33,44,54,34,4,5,6,7,8,9,43]\n",
        "sns.scatterplot(x)\n",
        "sns.set_style(\"whitegrid\")"
      ],
      "metadata": {
        "colab": {
          "base_uri": "https://localhost:8080/",
          "height": 430
        },
        "id": "cvvJpZNKocRH",
        "outputId": "9aeda6a9-07a2-4f53-c0b0-d13689a9db55"
      },
      "execution_count": null,
      "outputs": [
        {
          "output_type": "display_data",
          "data": {
            "text/plain": [
              "<Figure size 640x480 with 1 Axes>"
            ],
            "image/png": "[encoded data removed]"
          },
          "metadata": {}
        }
      ]
    },
    {
      "cell_type": "code",
      "source": [],
      "metadata": {
        "id": "_MO7wiuZoWqk",
        "colab": {
          "base_uri": "https://localhost:8080/",
          "height": 266
        },
        "outputId": "640ac2be-ce60-403e-8101-6553d284daee"
      },
      "execution_count": null,
      "outputs": [
        {
          "output_type": "execute_result",
          "data": {
            "text/plain": [
              "   7  0  0.1  0.2  0.3  0.4  0.5  0.6  0.7  0.8  ...  0.658  0.659  0.660  \\\n",
              "0  2  0    0    0    0    0    0    0    0    0  ...      0      0      0   \n",
              "1  1  0    0    0    0    0    0    0    0    0  ...      0      0      0   \n",
              "2  0  0    0    0    0    0    0    0    0    0  ...      0      0      0   \n",
              "3  4  0    0    0    0    0    0    0    0    0  ...      0      0      0   \n",
              "4  1  0    0    0    0    0    0    0    0    0  ...      0      0      0   \n",
              "\n",
              "   0.661  0.662  0.663  0.664  0.665  0.666  0.667  \n",
              "0      0      0      0      0      0      0      0  \n",
              "1      0      0      0      0      0      0      0  \n",
              "2      0      0      0      0      0      0      0  \n",
              "3      0      0      0      0      0      0      0  \n",
              "4      0      0      0      0      0      0      0  \n",
              "\n",
              "[5 rows x 785 columns]"
            ],
            "text/html": [
              "\n",
              "  <div id=\"df-55f546b0-6809-4269-994d-a1ef9d7aed8c\" class=\"colab-df-container\">\n",
              "    <div>\n",
              "<style scoped>\n",
              "    .dataframe tbody tr th:only-of-type {\n",
              "        vertical-align: middle;\n",
              "    }\n",
              "\n",
              "    .dataframe tbody tr th {\n",
              "        vertical-align: top;\n",
              "    }\n",
              "\n",
              "    .dataframe thead th {\n",
              "        text-align: right;\n",
              "    }\n",
              "</style>\n",
              "<table border=\"1\" class=\"dataframe\">\n",
              "  <thead>\n",
              "    <tr style=\"text-align: right;\">\n",
              "      <th></th>\n",
              "      <th>7</th>\n",
              "      <th>0</th>\n",
              "      <th>0.1</th>\n",
              "      <th>0.2</th>\n",
              "      <th>0.3</th>\n",
              "      <th>0.4</th>\n",
              "      <th>0.5</th>\n",
              "      <th>0.6</th>\n",
              "      <th>0.7</th>\n",
              "      <th>0.8</th>\n",
              "      <th>...</th>\n",
              "      <th>0.658</th>\n",
              "      <th>0.659</th>\n",
              "      <th>0.660</th>\n",
              "      <th>0.661</th>\n",
              "      <th>0.662</th>\n",
              "      <th>0.663</th>\n",
              "      <th>0.664</th>\n",
              "      <th>0.665</th>\n",
              "      <th>0.666</th>\n",
              "      <th>0.667</th>\n",
              "    </tr>\n",
              "  </thead>\n",
              "  <tbody>\n",
              "    <tr>\n",
              "      <th>0</th>\n",
              "      <td>2</td>\n",
              "      <td>0</td>\n",
              "      <td>0</td>\n",
              "      <td>0</td>\n",
              "      <td>0</td>\n",
              "      <td>0</td>\n",
              "      <td>0</td>\n",
              "      <td>0</td>\n",
              "      <td>0</td>\n",
              "      <td>0</td>\n",
              "      <td>...</td>\n",
              "      <td>0</td>\n",
              "      <td>0</td>\n",
              "      <td>0</td>\n",
              "      <td>0</td>\n",
              "      <td>0</td>\n",
              "      <td>0</td>\n",
              "      <td>0</td>\n",
              "      <td>0</td>\n",
              "      <td>0</td>\n",
              "      <td>0</td>\n",
              "    </tr>\n",
              "    <tr>\n",
              "      <th>1</th>\n",
              "      <td>1</td>\n",
              "      <td>0</td>\n",
              "      <td>0</td>\n",
              "      <td>0</td>\n",
              "      <td>0</td>\n",
              "      <td>0</td>\n",
              "      <td>0</td>\n",
              "      <td>0</td>\n",
              "      <td>0</td>\n",
              "      <td>0</td>\n",
              "      <td>...</td>\n",
              "      <td>0</td>\n",
              "      <td>0</td>\n",
              "      <td>0</td>\n",
              "      <td>0</td>\n",
              "      <td>0</td>\n",
              "      <td>0</td>\n",
              "      <td>0</td>\n",
              "      <td>0</td>\n",
              "      <td>0</td>\n",
              "      <td>0</td>\n",
              "    </tr>\n",
              "    <tr>\n",
              "      <th>2</th>\n",
              "      <td>0</td>\n",
              "      <td>0</td>\n",
              "      <td>0</td>\n",
              "      <td>0</td>\n",
              "      <td>0</td>\n",
              "      <td>0</td>\n",
              "      <td>0</td>\n",
              "      <td>0</td>\n",
              "      <td>0</td>\n",
              "      <td>0</td>\n",
              "      <td>...</td>\n",
              "      <td>0</td>\n",
              "      <td>0</td>\n",
              "      <td>0</td>\n",
              "      <td>0</td>\n",
              "      <td>0</td>\n",
              "      <td>0</td>\n",
              "      <td>0</td>\n",
              "      <td>0</td>\n",
              "      <td>0</td>\n",
              "      <td>0</td>\n",
              "    </tr>\n",
              "    <tr>\n",
              "      <th>3</th>\n",
              "      <td>4</td>\n",
              "      <td>0</td>\n",
              "      <td>0</td>\n",
              "      <td>0</td>\n",
              "      <td>0</td>\n",
              "      <td>0</td>\n",
              "      <td>0</td>\n",
              "      <td>0</td>\n",
              "      <td>0</td>\n",
              "      <td>0</td>\n",
              "      <td>...</td>\n",
              "      <td>0</td>\n",
              "      <td>0</td>\n",
              "      <td>0</td>\n",
              "      <td>0</td>\n",
              "      <td>0</td>\n",
              "      <td>0</td>\n",
              "      <td>0</td>\n",
              "      <td>0</td>\n",
              "      <td>0</td>\n",
              "      <td>0</td>\n",
              "    </tr>\n",
              "    <tr>\n",
              "      <th>4</th>\n",
              "      <td>1</td>\n",
              "      <td>0</td>\n",
              "      <td>0</td>\n",
              "      <td>0</td>\n",
              "      <td>0</td>\n",
              "      <td>0</td>\n",
              "      <td>0</td>\n",
              "      <td>0</td>\n",
              "      <td>0</td>\n",
              "      <td>0</td>\n",
              "      <td>...</td>\n",
              "      <td>0</td>\n",
              "      <td>0</td>\n",
              "      <td>0</td>\n",
              "      <td>0</td>\n",
              "      <td>0</td>\n",
              "      <td>0</td>\n",
              "      <td>0</td>\n",
              "      <td>0</td>\n",
              "      <td>0</td>\n",
              "      <td>0</td>\n",
              "    </tr>\n",
              "  </tbody>\n",
              "</table>\n",
              "<p>5 rows × 785 columns</p>\n",
              "</div>\n",
              "    <div class=\"colab-df-buttons\">\n",
              "\n",
              "  <div class=\"colab-df-container\">\n",
              "    <button class=\"colab-df-convert\" onclick=\"convertToInteractive('df-55f546b0-6809-4269-994d-a1ef9d7aed8c')\"\n",
              "            title=\"Convert this dataframe to an interactive table.\"\n",
              "            style=\"display:none;\">\n",
              "\n",
              "  <svg xmlns=\"http://www.w3.org/2000/svg\" height=\"24px\" viewBox=\"0 -960 960 960\">\n",
              "    <path d=\"M120-120v-720h720v720H120Zm60-500h600v-160H180v160Zm220 220h160v-160H400v160Zm0 220h160v-160H400v160ZM180-400h160v-160H180v160Zm440 0h160v-160H620v160ZM180-180h160v-160H180v160Zm440 0h160v-160H620v160Z\"/>\n",
              "  </svg>\n",
              "    </button>\n",
              "\n",
              "  <style>\n",
              "    .colab-df-container {\n",
              "      display:flex;\n",
              "      gap: 12px;\n",
              "    }\n",
              "\n",
              "    .colab-df-convert {\n",
              "      background-color: #E8F0FE;\n",
              "      border: none;\n",
              "      border-radius: 50%;\n",
              "      cursor: pointer;\n",
              "      display: none;\n",
              "      fill: #1967D2;\n",
              "      height: 32px;\n",
              "      padding: 0 0 0 0;\n",
              "      width: 32px;\n",
              "    }\n",
              "\n",
              "    .colab-df-convert:hover {\n",
              "      background-color: #E2EBFA;\n",
              "      box-shadow: 0px 1px 2px rgba(60, 64, 67, 0.3), 0px 1px 3px 1px rgba(60, 64, 67, 0.15);\n",
              "      fill: #174EA6;\n",
              "    }\n",
              "\n",
              "    .colab-df-buttons div {\n",
              "      margin-bottom: 4px;\n",
              "    }\n",
              "\n",
              "    [theme=dark] .colab-df-convert {\n",
              "      background-color: #3B4455;\n",
              "      fill: #D2E3FC;\n",
              "    }\n",
              "\n",
              "    [theme=dark] .colab-df-convert:hover {\n",
              "      background-color: #434B5C;\n",
              "      box-shadow: 0px 1px 3px 1px rgba(0, 0, 0, 0.15);\n",
              "      filter: drop-shadow(0px 1px 2px rgba(0, 0, 0, 0.3));\n",
              "      fill: #FFFFFF;\n",
              "    }\n",
              "  </style>\n",
              "\n",
              "    <script>\n",
              "      const buttonEl =\n",
              "        document.querySelector('#df-55f546b0-6809-4269-994d-a1ef9d7aed8c button.colab-df-convert');\n",
              "      buttonEl.style.display =\n",
              "        google.colab.kernel.accessAllowed ? 'block' : 'none';\n",
              "\n",
              "      async function convertToInteractive(key) {\n",
              "        const element = document.querySelector('#df-55f546b0-6809-4269-994d-a1ef9d7aed8c');\n",
              "        const dataTable =\n",
              "          await google.colab.kernel.invokeFunction('convertToInteractive',\n",
              "                                                    [key], {});\n",
              "        if (!dataTable) return;\n",
              "\n",
              "        const docLinkHtml = 'Like what you see? Visit the ' +\n",
              "          '<a target=\"_blank\" href=https://colab.research.google.com/notebooks/data_table.ipynb>data table notebook</a>'\n",
              "          + ' to learn more about interactive tables.';\n",
              "        element.innerHTML = '';\n",
              "        dataTable['output_type'] = 'display_data';\n",
              "        await google.colab.output.renderOutput(dataTable, element);\n",
              "        const docLink = document.createElement('div');\n",
              "        docLink.innerHTML = docLinkHtml;\n",
              "        element.appendChild(docLink);\n",
              "      }\n",
              "    </script>\n",
              "  </div>\n",
              "\n",
              "\n",
              "<div id=\"df-6a36b529-91ba-4b15-81fb-23e103da1db4\">\n",
              "  <button class=\"colab-df-quickchart\" onclick=\"quickchart('df-6a36b529-91ba-4b15-81fb-23e103da1db4')\"\n",
              "            title=\"Suggest charts\"\n",
              "            style=\"display:none;\">\n",
              "\n",
              "<svg xmlns=\"http://www.w3.org/2000/svg\" height=\"24px\"viewBox=\"0 0 24 24\"\n",
              "     width=\"24px\">\n",
              "    <g>\n",
              "        <path d=\"M19 3H5c-1.1 0-2 .9-2 2v14c0 1.1.9 2 2 2h14c1.1 0 2-.9 2-2V5c0-1.1-.9-2-2-2zM9 17H7v-7h2v7zm4 0h-2V7h2v10zm4 0h-2v-4h2v4z\"/>\n",
              "    </g>\n",
              "</svg>\n",
              "  </button>\n",
              "\n",
              "<style>\n",
              "  .colab-df-quickchart {\n",
              "      --bg-color: #E8F0FE;\n",
              "      --fill-color: #1967D2;\n",
              "      --hover-bg-color: #E2EBFA;\n",
              "      --hover-fill-color: #174EA6;\n",
              "      --disabled-fill-color: #AAA;\n",
              "      --disabled-bg-color: #DDD;\n",
              "  }\n",
              "\n",
              "  [theme=dark] .colab-df-quickchart {\n",
              "      --bg-color: #3B4455;\n",
              "      --fill-color: #D2E3FC;\n",
              "      --hover-bg-color: #434B5C;\n",
              "      --hover-fill-color: #FFFFFF;\n",
              "      --disabled-bg-color: #3B4455;\n",
              "      --disabled-fill-color: #666;\n",
              "  }\n",
              "\n",
              "  .colab-df-quickchart {\n",
              "    background-color: var(--bg-color);\n",
              "    border: none;\n",
              "    border-radius: 50%;\n",
              "    cursor: pointer;\n",
              "    display: none;\n",
              "    fill: var(--fill-color);\n",
              "    height: 32px;\n",
              "    padding: 0;\n",
              "    width: 32px;\n",
              "  }\n",
              "\n",
              "  .colab-df-quickchart:hover {\n",
              "    background-color: var(--hover-bg-color);\n",
              "    box-shadow: 0 1px 2px rgba(60, 64, 67, 0.3), 0 1px 3px 1px rgba(60, 64, 67, 0.15);\n",
              "    fill: var(--button-hover-fill-color);\n",
              "  }\n",
              "\n",
              "  .colab-df-quickchart-complete:disabled,\n",
              "  .colab-df-quickchart-complete:disabled:hover {\n",
              "    background-color: var(--disabled-bg-color);\n",
              "    fill: var(--disabled-fill-color);\n",
              "    box-shadow: none;\n",
              "  }\n",
              "\n",
              "  .colab-df-spinner {\n",
              "    border: 2px solid var(--fill-color);\n",
              "    border-color: transparent;\n",
              "    border-bottom-color: var(--fill-color);\n",
              "    animation:\n",
              "      spin 1s steps(1) infinite;\n",
              "  }\n",
              "\n",
              "  @keyframes spin {\n",
              "    0% {\n",
              "      border-color: transparent;\n",
              "      border-bottom-color: var(--fill-color);\n",
              "      border-left-color: var(--fill-color);\n",
              "    }\n",
              "    20% {\n",
              "      border-color: transparent;\n",
              "      border-left-color: var(--fill-color);\n",
              "      border-top-color: var(--fill-color);\n",
              "    }\n",
              "    30% {\n",
              "      border-color: transparent;\n",
              "      border-left-color: var(--fill-color);\n",
              "      border-top-color: var(--fill-color);\n",
              "      border-right-color: var(--fill-color);\n",
              "    }\n",
              "    40% {\n",
              "      border-color: transparent;\n",
              "      border-right-color: var(--fill-color);\n",
              "      border-top-color: var(--fill-color);\n",
              "    }\n",
              "    60% {\n",
              "      border-color: transparent;\n",
              "      border-right-color: var(--fill-color);\n",
              "    }\n",
              "    80% {\n",
              "      border-color: transparent;\n",
              "      border-right-color: var(--fill-color);\n",
              "      border-bottom-color: var(--fill-color);\n",
              "    }\n",
              "    90% {\n",
              "      border-color: transparent;\n",
              "      border-bottom-color: var(--fill-color);\n",
              "    }\n",
              "  }\n",
              "</style>\n",
              "\n",
              "  <script>\n",
              "    async function quickchart(key) {\n",
              "      const quickchartButtonEl =\n",
              "        document.querySelector('#' + key + ' button');\n",
              "      quickchartButtonEl.disabled = true;  // To prevent multiple clicks.\n",
              "      quickchartButtonEl.classList.add('colab-df-spinner');\n",
              "      try {\n",
              "        const charts = await google.colab.kernel.invokeFunction(\n",
              "            'suggestCharts', [key], {});\n",
              "      } catch (error) {\n",
              "        console.error('Error during call to suggestCharts:', error);\n",
              "      }\n",
              "      quickchartButtonEl.classList.remove('colab-df-spinner');\n",
              "      quickchartButtonEl.classList.add('colab-df-quickchart-complete');\n",
              "    }\n",
              "    (() => {\n",
              "      let quickchartButtonEl =\n",
              "        document.querySelector('#df-6a36b529-91ba-4b15-81fb-23e103da1db4 button');\n",
              "      quickchartButtonEl.style.display =\n",
              "        google.colab.kernel.accessAllowed ? 'block' : 'none';\n",
              "    })();\n",
              "  </script>\n",
              "</div>\n",
              "\n",
              "    </div>\n",
              "  </div>\n"
            ],
            "application/vnd.google.colaboratory.intrinsic+json": {
              "type": "dataframe",
              "variable_name": "cs_data"
            }
          },
          "metadata": {},
          "execution_count": 10
        },
        {
          "output_type": "stream",
          "name": "stdout",
          "text": [
            "Warning: Total number of columns (785) exceeds max_columns (20) limiting to first (20) columns.\n"
          ]
        }
      ]
    },
    {
      "cell_type": "code",
      "source": [
        "import seaborn as sns\n",
        "x=sns.load_dataset(\"tips\")\n",
        "sns.scatterplot(x=\"total_bill\",y=\"tip\",data=x)\n"
      ],
      "metadata": {
        "id": "8MSXwpWLsETe",
        "colab": {
          "base_uri": "https://localhost:8080/",
          "height": 468
        },
        "outputId": "330c36fc-1808-40dd-df70-1cd0a4ddaccd"
      },
      "execution_count": null,
      "outputs": [
        {
          "output_type": "execute_result",
          "data": {
            "text/plain": [
              "<Axes: xlabel='total_bill', ylabel='tip'>"
            ]
          },
          "metadata": {},
          "execution_count": 72
        },
        {
          "output_type": "display_data",
          "data": {
            "text/plain": [
              "<Figure size 640x480 with 1 Axes>"
            ],
            "image/png": "[encoded data removed]"
          },
          "metadata": {}
        }
      ]
    },
    {
      "cell_type": "code",
      "source": [],
      "metadata": {
        "id": "STv_0IcWD3QW"
      },
      "execution_count": null,
      "outputs": []
    },
    {
      "cell_type": "code",
      "source": [],
      "metadata": {
        "id": "D3aLe5EfD3MR"
      },
      "execution_count": null,
      "outputs": []
    },
    {
      "cell_type": "code",
      "source": [],
      "metadata": {
        "id": "AtexiLymD3F5"
      },
      "execution_count": null,
      "outputs": []
    },
    {
      "cell_type": "code",
      "source": [],
      "metadata": {
        "id": "jFBpsG-qD2Br"
      },
      "execution_count": null,
      "outputs": []
    },
    {
      "cell_type": "markdown",
      "source": [
        "# File input//output"
      ],
      "metadata": {
        "id": "glAiGkh9LZzu"
      }
    },
    {
      "cell_type": "code",
      "source": [
        "#using csv file with read mode\n",
        "f = open(\"prices.csv\", \"r\")\n",
        "\n",
        "#read line by line data\n",
        "l1=f.readline()\n",
        "print(l1)\n",
        "l2=f.readline()\n",
        "print(l2)\n",
        "\n",
        "print(f.read())\n"
      ],
      "metadata": {
        "id": "ZStr2oSLRqNe",
        "colab": {
          "base_uri": "https://localhost:8080/"
        },
        "outputId": "3857299a-b351-48f8-c276-c3cdf174b278"
      },
      "execution_count": null,
      "outputs": [
        {
          "output_type": "stream",
          "name": "stdout",
          "text": [
            "samsung.s20,899rice\n",
            "\n",
            "\n",
            "\n"
          ]
        }
      ]
    },
    {
      "cell_type": "code",
      "source": [
        "# using csv file with write mode\n",
        "f = open(\"prices.csv\", \"w\")\n",
        "w=f.write(\"samsung.s20,899\")\n",
        "print(w)#it overwrite the data\n"
      ],
      "metadata": {
        "id": "j6onBOfIRqLD",
        "colab": {
          "base_uri": "https://localhost:8080/"
        },
        "outputId": "eccb2a2f-ef73-480f-a8de-fdee8da910bf"
      },
      "execution_count": null,
      "outputs": [
        {
          "output_type": "stream",
          "name": "stdout",
          "text": [
            "15\n"
          ]
        }
      ]
    },
    {
      "cell_type": "code",
      "source": [
        "#using csv file with append mode\n",
        "f=open(\"prices.csv\",\"a\")\n",
        "f.write(\"samsung.s21,999\")#append at the end\n",
        "f.close()"
      ],
      "metadata": {
        "id": "2ankYOawRqId",
        "colab": {
          "base_uri": "https://localhost:8080/"
        },
        "outputId": "defadba1-2a4d-4658-9428-c8d3448a4811"
      },
      "execution_count": null,
      "outputs": [
        {
          "output_type": "execute_result",
          "data": {
            "text/plain": [
              "15"
            ]
          },
          "metadata": {},
          "execution_count": 13
        }
      ]
    },
    {
      "cell_type": "code",
      "source": [],
      "metadata": {
        "id": "LwcWUeluRqGD"
      },
      "execution_count": null,
      "outputs": []
    },
    {
      "cell_type": "code",
      "source": [],
      "metadata": {
        "id": "_pUxgSI3RqDV"
      },
      "execution_count": null,
      "outputs": []
    },
    {
      "cell_type": "code",
      "source": [],
      "metadata": {
        "id": "YeZNc8o5Rp_u"
      },
      "execution_count": null,
      "outputs": []
    },
    {
      "cell_type": "code",
      "source": [],
      "metadata": {
        "id": "dTad6MwqRpo2"
      },
      "execution_count": null,
      "outputs": []
    },
    {
      "cell_type": "code",
      "source": [],
      "metadata": {
        "id": "mvm1KsEqRple"
      },
      "execution_count": null,
      "outputs": []
    },
    {
      "cell_type": "markdown",
      "source": [
        "# Matplotlib"
      ],
      "metadata": {
        "id": "oKET0ZBwoCKy"
      }
    },
    {
      "cell_type": "code",
      "source": [
        "pip install matplotlib"
      ],
      "metadata": {
        "colab": {
          "base_uri": "https://localhost:8080/"
        },
        "id": "LL904eJwoJo2",
        "outputId": "d251017d-43aa-4e1d-ae2a-860fa0127f77"
      },
      "execution_count": null,
      "outputs": [
        {
          "output_type": "stream",
          "name": "stdout",
          "text": [
            "Requirement already satisfied: matplotlib in /usr/local/lib/python3.10/dist-packages (3.7.1)\n",
            "Requirement already satisfied: contourpy>=1.0.1 in /usr/local/lib/python3.10/dist-packages (from matplotlib) (1.2.1)\n",
            "Requirement already satisfied: cycler>=0.10 in /usr/local/lib/python3.10/dist-packages (from matplotlib) (0.12.1)\n",
            "Requirement already satisfied: fonttools>=4.22.0 in /usr/local/lib/python3.10/dist-packages (from matplotlib) (4.51.0)\n",
            "Requirement already satisfied: kiwisolver>=1.0.1 in /usr/local/lib/python3.10/dist-packages (from matplotlib) (1.4.5)\n",
            "Requirement already satisfied: numpy>=1.20 in /usr/local/lib/python3.10/dist-packages (from matplotlib) (1.25.2)\n",
            "Requirement already satisfied: packaging>=20.0 in /usr/local/lib/python3.10/dist-packages (from matplotlib) (24.0)\n",
            "Requirement already satisfied: pillow>=6.2.0 in /usr/local/lib/python3.10/dist-packages (from matplotlib) (9.4.0)\n",
            "Requirement already satisfied: pyparsing>=2.3.1 in /usr/local/lib/python3.10/dist-packages (from matplotlib) (3.1.2)\n",
            "Requirement already satisfied: python-dateutil>=2.7 in /usr/local/lib/python3.10/dist-packages (from matplotlib) (2.8.2)\n",
            "Requirement already satisfied: six>=1.5 in /usr/local/lib/python3.10/dist-packages (from python-dateutil>=2.7->matplotlib) (1.16.0)\n"
          ]
        }
      ]
    },
    {
      "cell_type": "code",
      "source": [
        "#ploting graph upside down\n",
        "import matplotlib.pyplot as plt\n",
        "import numpy as np\n",
        "x=[\"monday\",\"tuesday\",\"wednesday\",\"thursday\",\"friday\",\"saturday\",\"sunday\"]\n",
        "y=[1,2,3,4,5,6,7]\n",
        "z=[1,2,3,4,5,6,7]\n",
        "plt.bar(x,y)\n",
        "#plt.bar(x,z)\n",
        "plt.gca().invert_yaxis()\n",
        "plt.show()"
      ],
      "metadata": {
        "id": "vXfOklo0oWKr",
        "colab": {
          "base_uri": "https://localhost:8080/",
          "height": 435
        },
        "outputId": "8342fb80-a890-4d83-a411-0da2e59d7bb6"
      },
      "execution_count": null,
      "outputs": [
        {
          "output_type": "display_data",
          "data": {
            "text/plain": [
              "<Figure size 640x480 with 1 Axes>"
            ],
            "image/png": "[encoded data removed]"
          },
          "metadata": {}
        }
      ]
    },
    {
      "cell_type": "code",
      "source": [
        "#Different type of marker\n",
        "import matplotlib.pyplot as plt\n",
        "x=[1,2,3,4,5,6,6,5,4,3,2,1]\n",
        "y=[1,2,3,4,5,6,7,8,9,1,11,12]\n",
        "marker=['1','2','x','|','v','o','p','<','>','h','+','*']\n",
        "for xp , yp ,m in zip(x,y,marker):\n",
        "  plt.scatter(xp,yp,marker=m,s=100)\n",
        "plt.show()"
      ],
      "metadata": {
        "colab": {
          "base_uri": "https://localhost:8080/",
          "height": 430
        },
        "collapsed": true,
        "id": "aFIYc3ve4zpq",
        "outputId": "32b926e5-514b-490b-bd1b-8a2ec60d0b33"
      },
      "execution_count": null,
      "outputs": [
        {
          "output_type": "display_data",
          "data": {
            "text/plain": [
              "<Figure size 640x480 with 1 Axes>"
            ],
            "image/png": "[encoded data removed]"
          },
          "metadata": {}
        }
      ]
    },
    {
      "cell_type": "code",
      "source": [
        "import matplotlib.pyplot as plt\n",
        "x=[1,2,3,4,5,6,6]\n",
        "y=[1,2,3,4,7,6,7]\n",
        "plt.title('Scatter Plot')\n",
        "plt.xlabel('x-axis')\n",
        "plt.ylabel('y-axis')\n",
        "c=['r','m','p','b','k','lime']\n",
        "size=[100,400,300,200,500,600,500]\n",
        "plt.scatter(x,y,color='lime',s=300,alpha=0.7)\n",
        "plt.show()\n",
        "# # Implementation of matplotlib function\n",
        "# import matplotlib.pyplot as plt\n",
        "# import numpy as np\n",
        "# np.random.seed(19680801)\n",
        "# n = 100000\n",
        "# x = np.random.standard_normal(n)\n",
        "# y = 12 * np.random.standard_normal(n)\n",
        "# plt.hexbin(x, y, gridsize = 50, cmap ='Greens')\n",
        "# plt.colorbar()\n",
        "# # plt.show()"
      ],
      "metadata": {
        "colab": {
          "base_uri": "https://localhost:8080/",
          "height": 472
        },
        "collapsed": true,
        "id": "zJgLzD7v4zml",
        "outputId": "4d332855-9d9c-4ff9-f598-c8a6f0feb536"
      },
      "execution_count": null,
      "outputs": [
        {
          "output_type": "display_data",
          "data": {
            "text/plain": [
              "<Figure size 640x480 with 1 Axes>"
            ],
            "image/png": "[encoded data removed]"
          },
          "metadata": {}
        }
      ]
    },
    {
      "cell_type": "code",
      "source": [
        "# hexbin of matplotlib function\n",
        "import matplotlib.pyplot as plt\n",
        "import numpy as np\n",
        "\n",
        "x = np.random.randn(1000)\n",
        "y = np.random.randn(1000)\n",
        "\n",
        "plt.hexbin(x, y, gridsize=30, cmap='seismic')#viridis,Greens,plasma,inferno,seismic,flag\n",
        "plt.colorbar()\n",
        "plt.show()"
      ],
      "metadata": {
        "colab": {
          "base_uri": "https://localhost:8080/",
          "height": 430
        },
        "id": "3lA2tLe94zjd",
        "outputId": "1ca232c8-47f5-49b9-83cf-366097845e58"
      },
      "execution_count": null,
      "outputs": [
        {
          "output_type": "display_data",
          "data": {
            "text/plain": [
              "<Figure size 640x480 with 2 Axes>"
            ],
            "image/png": "[encoded data removed]"
          },
          "metadata": {}
        }
      ]
    },
    {
      "cell_type": "code",
      "source": [
        "import matplotlib.pyplot as plt\n",
        "x=[1,2,3,4,5]\n",
        "y=[1,2,3,4,5]\n",
        "plt.stem(x,y,markerfmt='D')\n",
        "plt.show()"
      ],
      "metadata": {
        "colab": {
          "base_uri": "https://localhost:8080/",
          "height": 430
        },
        "id": "AipHxzlT4zdj",
        "outputId": "421ce05f-0888-445f-afa8-729ec9391ce2"
      },
      "execution_count": null,
      "outputs": [
        {
          "output_type": "display_data",
          "data": {
            "text/plain": [
              "<Figure size 640x480 with 1 Axes>"
            ],
            "image/png": "[encoded data removed]"
          },
          "metadata": {}
        }
      ]
    },
    {
      "cell_type": "code",
      "source": [],
      "metadata": {
        "id": "yn5--m_u4zaA"
      },
      "execution_count": null,
      "outputs": []
    }
  ],
  "metadata": {
    "colab": {
      "provenance": [],
      "gpuType": "T4",
      "authorship_tag": "ABX9TyO5rGMuPIGqD8MZd1iomo7j",
      "include_colab_link": true
    },
    "kernelspec": {
      "display_name": "Python 3",
      "name": "python3"
    },
    "language_info": {
      "name": "python"
    }
  },
  "nbformat": 4,
  "nbformat_minor": 0
}